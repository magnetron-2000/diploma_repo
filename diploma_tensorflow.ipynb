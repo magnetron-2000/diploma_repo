{
 "cells": [
  {
   "cell_type": "markdown",
   "id": "a5f04fbf-b900-48bd-a2c1-6ea2895b26af",
   "metadata": {},
   "source": [
    "import libraries"
   ]
  },
  {
   "cell_type": "code",
   "execution_count": 1,
   "id": "6553d77d-0de9-4d79-bede-db30eb32a546",
   "metadata": {
    "tags": []
   },
   "outputs": [
    {
     "name": "stderr",
     "output_type": "stream",
     "text": [
      "2023-05-15 13:03:18.446926: I tensorflow/tsl/cuda/cudart_stub.cc:28] Could not find cuda drivers on your machine, GPU will not be used.\n",
      "2023-05-15 13:03:18.572889: I tensorflow/tsl/cuda/cudart_stub.cc:28] Could not find cuda drivers on your machine, GPU will not be used.\n",
      "2023-05-15 13:03:18.573973: I tensorflow/core/platform/cpu_feature_guard.cc:182] This TensorFlow binary is optimized to use available CPU instructions in performance-critical operations.\n",
      "To enable the following instructions: AVX2 FMA, in other operations, rebuild TensorFlow with the appropriate compiler flags.\n",
      "2023-05-15 13:03:19.641034: W tensorflow/compiler/tf2tensorrt/utils/py_utils.cc:38] TF-TRT Warning: Could not find TensorRT\n"
     ]
    }
   ],
   "source": [
    "import tensorflow as tf\n",
    "import numpy as np\n",
    "import os\n",
    "from tensorflow.keras.models import Sequential\n",
    "from tensorflow.keras.layers import Conv2D\n",
    "from tensorflow.keras.layers import MaxPooling2D\n",
    "from tensorflow.keras.layers import Flatten\n",
    "from tensorflow.keras.layers import Dense\n",
    "from tensorflow.keras.layers import BatchNormalization\n",
    "from tensorflow.keras import regularizers\n",
    "from tensorflow.keras.callbacks import ModelCheckpoint\n",
    "from keras.preprocessing.image import ImageDataGenerator\n",
    "import matplotlib.pylab as plt\n",
    "from keras.preprocessing import image\n",
    "from tensorflow.keras import utils\n",
    "from sklearn.metrics import classification_report\n",
    "from sklearn.metrics import confusion_matrix\n",
    "from sklearn.metrics import ConfusionMatrixDisplay\n",
    "from sklearn.metrics import f1_score\n",
    "import shutil\n",
    "import splitfolders\n",
    "import time"
   ]
  },
  {
   "cell_type": "code",
   "execution_count": 2,
   "id": "ad354b46-1656-4149-9cc9-023a02606d9a",
   "metadata": {
    "tags": []
   },
   "outputs": [
    {
     "name": "stdout",
     "output_type": "stream",
     "text": [
      "2.12.0\n"
     ]
    }
   ],
   "source": [
    "# !unzip /home/jovyan/dataset2/221.zip -d /home/jovyan/dataset2/\n",
    "\n",
    "# !rm -r /home/jovyan/dataset2/221\n",
    "\n",
    "print(tf.__version__)"
   ]
  },
  {
   "cell_type": "markdown",
   "id": "adf6865a-b923-4561-a319-242ed82b2ab4",
   "metadata": {},
   "source": [
    "functions"
   ]
  },
  {
   "cell_type": "code",
   "execution_count": 34,
   "id": "51392f27-7832-4cab-a3ea-0a7c755446af",
   "metadata": {},
   "outputs": [],
   "source": [
    "SAVED_MODEL_BEST_ACCURACY_RESULTS = []\n",
    "SAVED_MODEL_BEST_VAL_ACCURACY_RESULTS = []\n",
    "SAVED_MODEL_BEST_ACCURACY_RESULTS2 = []\n",
    "SAVED_MODEL_BEST_VAL_ACCURACY_RESULTS2 = []\n",
    "EPOCHS = 170 # try different"
   ]
  },
  {
   "cell_type": "code",
   "execution_count": 4,
   "id": "abb70308-5f4f-4e97-a783-ddce4318c798",
   "metadata": {
    "tags": []
   },
   "outputs": [],
   "source": [
    "def get_image_and_transform(path):\n",
    "    data = utils.load_img(path, color_mode='grayscale', target_size=(64, 64))\n",
    "    data = utils.img_to_array(data)\n",
    "    data = np.expand_dims(data, axis=0)\n",
    "    data = data / 255.0\n",
    "    return data"
   ]
  },
  {
   "cell_type": "code",
   "execution_count": 5,
   "id": "62f1fcef-0994-4627-b40f-3acdbdddfdca",
   "metadata": {
    "tags": []
   },
   "outputs": [],
   "source": [
    "def build_dataset(dataset_dir): # build 2 datasets for training and testing\n",
    "    x_train, y_train = [], []\n",
    "    classes = sorted(os.listdir(dataset_dir))\n",
    "    for i in range(len(classes)):\n",
    "        class_dir = os.path.join(dataset_dir, classes[i])\n",
    "        images = os.listdir(class_dir)\n",
    "        for image in images:\n",
    "            full_image_path = os.path.join(class_dir, image)\n",
    "            if 'ipynb_checkpoints' in full_image_path:\n",
    "                continue\n",
    "            x_train.append(get_image_and_transform(full_image_path))\n",
    "            y_train.append(i)\n",
    "    return x_train, y_train"
   ]
  },
  {
   "cell_type": "code",
   "execution_count": 6,
   "id": "ad3393a6-e4e3-4d4d-9f97-6b82aa56a007",
   "metadata": {
    "tags": []
   },
   "outputs": [],
   "source": [
    "def get_examples_and_classes(dataset_dir, num): # return persons' names and persons' ears\n",
    "    classes = sorted(os.listdir(dataset_dir))\n",
    "    examples = []\n",
    "    for i in range(len(classes)):\n",
    "        class_dir = os.path.join(dataset_dir, classes[i])\n",
    "        images = os.listdir(class_dir)\n",
    "        examples.append(os.path.join(class_dir, images[num]))\n",
    "\n",
    "    return classes, examples"
   ]
  },
  {
   "cell_type": "code",
   "execution_count": 31,
   "id": "aa81b474-0966-492b-8f25-eba67ab5cfa3",
   "metadata": {
    "tags": []
   },
   "outputs": [],
   "source": [
    "def plot(accuracy, loss, val_accuracy, val_loss): # return schedule of accuracy and loss\n",
    "    fig, ax1 = plt.subplots()\n",
    "    ax1.set_xlabel('epoch')\n",
    "\n",
    "    ax1.set_ylabel('total loss')\n",
    "    ax1.plot(loss,color='tab:red')\n",
    "    ax1.plot( val_loss, color='tab:brown')\n",
    "    ax1.tick_params(axis='y')\n",
    "\n",
    "    ax2 = ax1.twinx()  \n",
    "    ax2.set_ylabel('accuracy')  \n",
    "    ax2.plot( accuracy, color='tab:blue')\n",
    "    ax2.plot( val_accuracy, color='tab:green')\n",
    "    ax2.tick_params(axis='y')\n",
    "    fig.tight_layout()"
   ]
  },
  {
   "cell_type": "code",
   "execution_count": 15,
   "id": "a71d1655-70cd-419b-b7cb-eff7a5a542c7",
   "metadata": {
    "tags": []
   },
   "outputs": [],
   "source": [
    "def plot_many(title='title', data=[]): # return schedules of accuracy\n",
    "    for i,o in enumerate(data):\n",
    "        plt.figure(i)\n",
    "        plt.plot([i for i in range(EPOCHS)],o, label=title)\n",
    "        plt.legend(loc='upper left')"
   ]
  },
  {
   "cell_type": "code",
   "execution_count": 9,
   "id": "ab19927f-1208-4bfd-a329-933b6a21a2d4",
   "metadata": {
    "tags": []
   },
   "outputs": [],
   "source": [
    "def max_or_min_avarage_val(list_of_data, accuracy=True): #return dictionary of average values of lists\n",
    "    dict_all_l = {}\n",
    "    for i, o in enumerate(list_of_data):\n",
    "        dict_all_l[i] = sum(o)/len(o)\n",
    "    if accuracy:\n",
    "        return dict(sorted(dict_all_l.items(), key=lambda item: item[1], reverse=True))\n",
    "    else:\n",
    "        return dict(sorted(dict_all_l.items(), key=lambda item: item[1]))"
   ]
  },
  {
   "cell_type": "code",
   "execution_count": 16,
   "id": "253f7b60-36bb-494f-9a81-078cc84b280c",
   "metadata": {},
   "outputs": [],
   "source": [
    "def save_lists(): # save lists of accuracy and loss\n",
    "    t = time.ctime(time.time())[:-5]\n",
    "    with open(f'accuracy {t}.txt', 'w') as f:\n",
    "        for item in SAVED_MODEL_BEST_ACCURACY_RESULTS:\n",
    "            f.write(\"%s\\n\" % item)\n",
    "    with open(f'val_accuracy {t}.txt', 'w') as f:\n",
    "        for item in SAVED_MODEL_BEST_VAL_ACCURACY_RESULTS:\n",
    "            f.write(\"%s\\n\" % item)"
   ]
  },
  {
   "cell_type": "code",
   "execution_count": 11,
   "id": "6d59b4e0-8d86-4f58-a171-392fe5498f4a",
   "metadata": {},
   "outputs": [],
   "source": [
    "def read_list_from_file(filename): # read accuracy or loss data  from files\n",
    "    lst = []\n",
    "    with open(filename, 'r') as file:\n",
    "        for line in file.readlines():\n",
    "            if line in ('', ' ','\\n'):\n",
    "                break\n",
    "            line = line[1:-2].split(', ')\n",
    "            lst.append([float(i.strip()) for i in line])\n",
    "    return lst"
   ]
  },
  {
   "cell_type": "code",
   "execution_count": 12,
   "id": "7d9c0e79-cdeb-4c1a-9cfb-ec1fcd518589",
   "metadata": {
    "tags": []
   },
   "outputs": [],
   "source": [
    "def show_best_res(list_of_data): # return max value in every list of accuracy\n",
    "    max_val = {}\n",
    "    for i, o in enumerate(list_of_data):\n",
    "        max_val[i] = max(o)\n",
    "    return dict(sorted(max_val.items(), key=lambda item: item[1], reverse=True))"
   ]
  },
  {
   "cell_type": "code",
   "execution_count": 13,
   "id": "72436a61-67e4-4a1f-8128-f22659e2288a",
   "metadata": {
    "tags": []
   },
   "outputs": [],
   "source": [
    "def create_new_dataset(path):\n",
    "    images = sorted(os.listdir(path))\n",
    "    for image in images:\n",
    "        if 'ipynb_checkpoints' in image:\n",
    "            continue\n",
    "        old_path = f'/home/jovyan/dataset2/221/{image}'\n",
    "        new_path = f\"/home/jovyan/dataset2/dataset2/{image[:3]}\"\n",
    "\n",
    "        if os.path.exists(new_path):\n",
    "            shutil.copyfile(old_path, new_path+'/'+image)\n",
    "        else:\n",
    "            os.mkdir(new_path)\n",
    "            shutil.copyfile(old_path, new_path+'/'+image)"
   ]
  },
  {
   "cell_type": "code",
   "execution_count": 38,
   "id": "68e33001-b75a-4829-b2e6-cd26ad9ace83",
   "metadata": {
    "tags": []
   },
   "outputs": [],
   "source": [
    "def add_random_noise(image):\n",
    "    noise = np.random.normal(loc=0, scale=0.0000001, size=image.shape)\n",
    "    noisy_image = image + noise\n",
    "    noisy_image = np.clip(noisy_image, 0., 1.)\n",
    "    return noisy_image"
   ]
  },
  {
   "cell_type": "markdown",
   "id": "b198520c-7008-4b6c-b7dd-bc94f7fc2f08",
   "metadata": {},
   "source": [
    "dataset"
   ]
  },
  {
   "cell_type": "code",
   "execution_count": 14,
   "id": "71ed47a4-8c69-48d5-af81-e6d5f87955d9",
   "metadata": {
    "tags": []
   },
   "outputs": [],
   "source": [
    "train_folder = \"/home/jovyan/dataset1/dataset2/train\"\n",
    "test_folder = \"/home/jovyan/dataset1/dataset2/test\""
   ]
  },
  {
   "cell_type": "code",
   "execution_count": 4,
   "id": "b11e76ff-fb8f-4479-ba39-262735c35cc3",
   "metadata": {
    "tags": []
   },
   "outputs": [],
   "source": [
    "# data_folder = \"/home/jovyan/dataset2/221\"\n",
    "# create_new_dataset(data_folder)\n",
    "# train_datagen = \"/home/jovyan/dataset2/dataset2\"\n",
    "# splitfolders.ratio(train_datagen, output=\"/home/jovyan/dataset2\", seed=1337, ratio=(.8, 0.1,0.1)) \n",
    "train_folder = \"/home/jovyan/dataset2/train\"\n",
    "test_folder = \"/home/jovyan/dataset2/test\""
   ]
  },
  {
   "cell_type": "code",
   "execution_count": 20,
   "id": "7138b14b-26ee-4297-9c9b-2c552d9d6c53",
   "metadata": {
    "tags": []
   },
   "outputs": [
    {
     "name": "stdout",
     "output_type": "stream",
     "text": [
      "Found 557 images belonging to 222 classes.\n",
      "Found 236 images belonging to 222 classes.\n"
     ]
    }
   ],
   "source": [
    "train_datagen = ImageDataGenerator(rescale = 1./255, preprocessing_function=add_random_noise)#, shear_range = 0.2, zoom_range = 0.2, horizontal_flip = True)\n",
    "test_datagen = ImageDataGenerator(rescale = 1./255)\n",
    "\n",
    "\n",
    "training_set = train_datagen.flow_from_directory(train_folder,\n",
    "                                                 target_size = (50, 180),\n",
    "                                                 batch_size = 32,\n",
    "                                                 class_mode = 'categorical',\n",
    "                                                 color_mode='grayscale')\n",
    "\n",
    "test_set = test_datagen.flow_from_directory(test_folder,\n",
    "                                            target_size = (50, 180),\n",
    "                                            batch_size = 16,\n",
    "                                            class_mode = 'categorical',\n",
    "                                            color_mode='grayscale')\n",
    "\n",
    "\n",
    "\n",
    "# print(training_set.filepaths)\n",
    "# print(training_set.classes)\n",
    "# print(training_set.class_indices)\n"
   ]
  },
  {
   "cell_type": "markdown",
   "id": "0ae0f1f8-a05a-47b6-8962-711522d51998",
   "metadata": {},
   "source": [
    "model"
   ]
  },
  {
   "cell_type": "code",
   "execution_count": 22,
   "id": "3e2d5c7a-7d38-463b-ac3e-19033eaef6ff",
   "metadata": {
    "collapsed": true,
    "jupyter": {
     "outputs_hidden": true
    },
    "tags": []
   },
   "outputs": [
    {
     "name": "stdout",
     "output_type": "stream",
     "text": [
      "Model: \"sequential_3\"\n",
      "_________________________________________________________________\n",
      " Layer (type)                Output Shape              Param #   \n",
      "=================================================================\n",
      " conv2d_12 (Conv2D)          (None, 50, 180, 32)       320       \n",
      "                                                                 \n",
      " max_pooling2d_12 (MaxPoolin  (None, 25, 90, 32)       0         \n",
      " g2D)                                                            \n",
      "                                                                 \n",
      " batch_normalization_12 (Bat  (None, 25, 90, 32)       128       \n",
      " chNormalization)                                                \n",
      "                                                                 \n",
      " conv2d_13 (Conv2D)          (None, 25, 90, 32)        9248      \n",
      "                                                                 \n",
      " max_pooling2d_13 (MaxPoolin  (None, 12, 45, 32)       0         \n",
      " g2D)                                                            \n",
      "                                                                 \n",
      " batch_normalization_13 (Bat  (None, 12, 45, 32)       128       \n",
      " chNormalization)                                                \n",
      "                                                                 \n",
      " conv2d_14 (Conv2D)          (None, 12, 45, 32)        9248      \n",
      "                                                                 \n",
      " max_pooling2d_14 (MaxPoolin  (None, 6, 22, 32)        0         \n",
      " g2D)                                                            \n",
      "                                                                 \n",
      " batch_normalization_14 (Bat  (None, 6, 22, 32)        128       \n",
      " chNormalization)                                                \n",
      "                                                                 \n",
      " conv2d_15 (Conv2D)          (None, 6, 22, 64)         18496     \n",
      "                                                                 \n",
      " max_pooling2d_15 (MaxPoolin  (None, 3, 11, 64)        0         \n",
      " g2D)                                                            \n",
      "                                                                 \n",
      " batch_normalization_15 (Bat  (None, 3, 11, 64)        256       \n",
      " chNormalization)                                                \n",
      "                                                                 \n",
      " flatten_3 (Flatten)         (None, 2112)              0         \n",
      "                                                                 \n",
      " dense_6 (Dense)             (None, 512)               1081856   \n",
      "                                                                 \n",
      " dense_7 (Dense)             (None, 222)               113886    \n",
      "                                                                 \n",
      "=================================================================\n",
      "Total params: 1,233,694\n",
      "Trainable params: 1,233,374\n",
      "Non-trainable params: 320\n",
      "_________________________________________________________________\n"
     ]
    }
   ],
   "source": [
    "def model(in_1=32, in_2=32, in_3=32, in_4=64, l2_weight=0.01):\n",
    "    model = Sequential()\n",
    "    model.add(Conv2D(filters=in_1,kernel_size=3, strides=1, input_shape=(50,180,1), padding='same', activation = 'relu'))\n",
    "    model.add(MaxPooling2D(pool_size = (2,2)))\n",
    "    model.add(BatchNormalization())\n",
    "    \n",
    "    model.add(Conv2D(filters=in_2,kernel_size=3, strides=1, padding = 'same', activation = 'relu'))\n",
    "    model.add(MaxPooling2D(pool_size = (2,2)))\n",
    "    model.add(BatchNormalization())\n",
    "\n",
    "    model.add(Conv2D(filters=in_3,kernel_size=3, strides=1, padding ='same', activation = 'relu'))\n",
    "    model.add(MaxPooling2D(pool_size = (2,2)))\n",
    "    model.add(BatchNormalization())\n",
    "    \n",
    "    \n",
    "    model.add(Conv2D(filters=in_4,kernel_size=3, strides=1, padding ='same', activation = 'relu'))\n",
    "    model.add(MaxPooling2D(pool_size = (2,2)))\n",
    "    model.add(BatchNormalization())\n",
    "\n",
    "    model.add(Flatten())\n",
    "    model.add(Dense(units = 512 , activation = 'tanh')) # try delete\n",
    "    model.add(Dense(units = 222 , activation = 'softmax'))\n",
    "\n",
    "    model.compile( optimizer='Adam', loss = 'categorical_crossentropy',metrics = ['accuracy'])\n",
    "\n",
    "    return model\n",
    "summary_example = model()\n",
    "summary_example.summary()"
   ]
  },
  {
   "cell_type": "markdown",
   "id": "fdfdf6c4-bed3-4b6f-92bd-9a2e9c16403a",
   "metadata": {},
   "source": [
    "choose best hyperparameters"
   ]
  },
  {
   "cell_type": "code",
   "execution_count": 8,
   "id": "820b32f0-c987-41b1-bf6a-f268b1675ce0",
   "metadata": {
    "tags": []
   },
   "outputs": [],
   "source": [
    "def model_and_best_hyperparameters(nums):\n",
    "    start_time1 = time.time() \n",
    "    for i in nums:\n",
    "        start_time2 = time.time()\n",
    "        \n",
    "        ready_model = model(i,i*2,i*3, i*4)        # change order \n",
    "        trained_model = ready_model.fit(training_set, steps_per_epoch = len(training_set), epochs = EPOCHS,\n",
    "                                        validation_data = test_set, validation_steps=len(test_set))\n",
    "        \n",
    "        print(\"for one training time taken: {:.2f} seconds\".format(time.time() - start_time2)) # how much time one training take\n",
    "\n",
    "        SAVED_MODEL_BEST_ACCURACY_RESULTS.append(trained_model.history['accuracy'])\n",
    "        SAVED_MODEL_BEST_VAL_ACCURACY_RESULTS.append(trained_model.history['val_accuracy'])\n",
    "        \n",
    "    return time.time() - start_time1 # how much time all training take"
   ]
  },
  {
   "cell_type": "code",
   "execution_count": 11,
   "id": "aaa15b49-da5a-4cbb-bf6a-0fadef1326ed",
   "metadata": {
    "collapsed": true,
    "jupyter": {
     "outputs_hidden": true
    },
    "tags": []
   },
   "outputs": [
    {
     "name": "stdout",
     "output_type": "stream",
     "text": [
      "Epoch 1/170\n"
     ]
    },
    {
     "name": "stderr",
     "output_type": "stream",
     "text": [
      "2023-05-15 13:04:24.921061: I tensorflow/core/common_runtime/executor.cc:1197] [/device:CPU:0] (DEBUG INFO) Executor start aborting (this does not indicate an error and you can ignore this message): INVALID_ARGUMENT: You must feed a value for placeholder tensor 'Placeholder/_0' with dtype int32\n",
      "\t [[{{node Placeholder/_0}}]]\n"
     ]
    },
    {
     "name": "stdout",
     "output_type": "stream",
     "text": [
      "18/18 [==============================] - ETA: 0s - loss: 5.4216 - accuracy: 0.0521"
     ]
    },
    {
     "name": "stderr",
     "output_type": "stream",
     "text": [
      "2023-05-15 13:04:31.694810: I tensorflow/core/common_runtime/executor.cc:1197] [/device:CPU:0] (DEBUG INFO) Executor start aborting (this does not indicate an error and you can ignore this message): INVALID_ARGUMENT: You must feed a value for placeholder tensor 'Placeholder/_0' with dtype int32\n",
      "\t [[{{node Placeholder/_0}}]]\n"
     ]
    },
    {
     "name": "stdout",
     "output_type": "stream",
     "text": [
      "18/18 [==============================] - 7s 322ms/step - loss: 5.4216 - accuracy: 0.0521 - val_loss: 5.4344 - val_accuracy: 0.0042\n",
      "Epoch 2/170\n",
      "18/18 [==============================] - 5s 303ms/step - loss: 3.7109 - accuracy: 0.2316 - val_loss: 6.2339 - val_accuracy: 0.0042\n",
      "Epoch 3/170\n",
      "18/18 [==============================] - 5s 302ms/step - loss: 2.2937 - accuracy: 0.5422 - val_loss: 6.6019 - val_accuracy: 0.0042\n",
      "Epoch 4/170\n",
      "18/18 [==============================] - 6s 330ms/step - loss: 1.1556 - accuracy: 0.8025 - val_loss: 6.9214 - val_accuracy: 0.0042\n",
      "Epoch 5/170\n",
      "18/18 [==============================] - 7s 398ms/step - loss: 0.4176 - accuracy: 0.9408 - val_loss: 7.3444 - val_accuracy: 0.0042\n",
      "Epoch 6/170\n",
      "18/18 [==============================] - 6s 335ms/step - loss: 0.1563 - accuracy: 0.9874 - val_loss: 7.7674 - val_accuracy: 0.0042\n",
      "Epoch 7/170\n",
      "18/18 [==============================] - 7s 368ms/step - loss: 0.0883 - accuracy: 0.9874 - val_loss: 7.8621 - val_accuracy: 0.0085\n",
      "Epoch 8/170\n",
      "18/18 [==============================] - 7s 376ms/step - loss: 0.0450 - accuracy: 0.9946 - val_loss: 7.8553 - val_accuracy: 0.0042\n",
      "Epoch 9/170\n",
      "18/18 [==============================] - 6s 330ms/step - loss: 0.0210 - accuracy: 0.9982 - val_loss: 8.3479 - val_accuracy: 0.0042\n",
      "Epoch 10/170\n",
      "18/18 [==============================] - 6s 321ms/step - loss: 0.0175 - accuracy: 0.9982 - val_loss: 8.5082 - val_accuracy: 0.0042\n",
      "Epoch 11/170\n",
      "18/18 [==============================] - 6s 338ms/step - loss: 0.0129 - accuracy: 0.9982 - val_loss: 8.0099 - val_accuracy: 0.0042\n",
      "Epoch 12/170\n",
      "18/18 [==============================] - 6s 348ms/step - loss: 0.0090 - accuracy: 1.0000 - val_loss: 8.4053 - val_accuracy: 0.0042\n",
      "Epoch 13/170\n",
      "18/18 [==============================] - 6s 333ms/step - loss: 0.0080 - accuracy: 1.0000 - val_loss: 8.6423 - val_accuracy: 0.0042\n",
      "Epoch 14/170\n",
      "18/18 [==============================] - 7s 367ms/step - loss: 0.0058 - accuracy: 1.0000 - val_loss: 8.2975 - val_accuracy: 0.0042\n",
      "Epoch 15/170\n",
      "18/18 [==============================] - 6s 339ms/step - loss: 0.0048 - accuracy: 1.0000 - val_loss: 8.4253 - val_accuracy: 0.0042\n",
      "Epoch 16/170\n",
      "18/18 [==============================] - 6s 315ms/step - loss: 0.0046 - accuracy: 1.0000 - val_loss: 8.3661 - val_accuracy: 0.0042\n",
      "Epoch 17/170\n",
      "18/18 [==============================] - 6s 308ms/step - loss: 0.0041 - accuracy: 1.0000 - val_loss: 8.3021 - val_accuracy: 0.0042\n",
      "Epoch 18/170\n",
      "18/18 [==============================] - 6s 318ms/step - loss: 0.0036 - accuracy: 1.0000 - val_loss: 8.1614 - val_accuracy: 0.0042\n",
      "Epoch 19/170\n",
      "18/18 [==============================] - 6s 311ms/step - loss: 0.0039 - accuracy: 1.0000 - val_loss: 7.6426 - val_accuracy: 0.0042\n",
      "Epoch 20/170\n",
      "18/18 [==============================] - 6s 311ms/step - loss: 0.0037 - accuracy: 1.0000 - val_loss: 7.6589 - val_accuracy: 0.0042\n",
      "Epoch 21/170\n",
      "18/18 [==============================] - 6s 308ms/step - loss: 0.0036 - accuracy: 1.0000 - val_loss: 7.7339 - val_accuracy: 0.0042\n",
      "Epoch 22/170\n",
      "18/18 [==============================] - 6s 312ms/step - loss: 0.0032 - accuracy: 1.0000 - val_loss: 7.4147 - val_accuracy: 0.0042\n",
      "Epoch 23/170\n",
      "18/18 [==============================] - 6s 312ms/step - loss: 0.0033 - accuracy: 1.0000 - val_loss: 7.0057 - val_accuracy: 0.0085\n",
      "Epoch 24/170\n",
      "18/18 [==============================] - 6s 313ms/step - loss: 0.0026 - accuracy: 1.0000 - val_loss: 6.5511 - val_accuracy: 0.0085\n",
      "Epoch 25/170\n",
      "18/18 [==============================] - 6s 311ms/step - loss: 0.0030 - accuracy: 1.0000 - val_loss: 6.1839 - val_accuracy: 0.0085\n",
      "Epoch 26/170\n",
      "18/18 [==============================] - 6s 305ms/step - loss: 0.0021 - accuracy: 1.0000 - val_loss: 5.5120 - val_accuracy: 0.0127\n",
      "Epoch 27/170\n",
      "18/18 [==============================] - 6s 311ms/step - loss: 0.0021 - accuracy: 1.0000 - val_loss: 4.9204 - val_accuracy: 0.0254\n",
      "Epoch 28/170\n",
      "18/18 [==============================] - 7s 369ms/step - loss: 0.0024 - accuracy: 1.0000 - val_loss: 4.5457 - val_accuracy: 0.0297\n",
      "Epoch 29/170\n",
      "18/18 [==============================] - 6s 342ms/step - loss: 0.0023 - accuracy: 1.0000 - val_loss: 3.8472 - val_accuracy: 0.0720\n",
      "Epoch 30/170\n",
      "18/18 [==============================] - 6s 332ms/step - loss: 0.0019 - accuracy: 1.0000 - val_loss: 3.1789 - val_accuracy: 0.1949\n",
      "Epoch 31/170\n",
      "18/18 [==============================] - 6s 306ms/step - loss: 0.0017 - accuracy: 1.0000 - val_loss: 2.5870 - val_accuracy: 0.3475\n",
      "Epoch 32/170\n",
      "18/18 [==============================] - 5s 304ms/step - loss: 0.0018 - accuracy: 1.0000 - val_loss: 2.0668 - val_accuracy: 0.4788\n",
      "Epoch 33/170\n",
      "18/18 [==============================] - 5s 303ms/step - loss: 0.0014 - accuracy: 1.0000 - val_loss: 1.6151 - val_accuracy: 0.5975\n",
      "Epoch 34/170\n",
      "18/18 [==============================] - 5s 302ms/step - loss: 0.0015 - accuracy: 1.0000 - val_loss: 1.2600 - val_accuracy: 0.7500\n",
      "Epoch 35/170\n",
      "18/18 [==============================] - 5s 303ms/step - loss: 0.0016 - accuracy: 1.0000 - val_loss: 1.0031 - val_accuracy: 0.8051\n",
      "Epoch 36/170\n",
      "18/18 [==============================] - 5s 300ms/step - loss: 0.0014 - accuracy: 1.0000 - val_loss: 0.7953 - val_accuracy: 0.8686\n",
      "Epoch 37/170\n",
      "18/18 [==============================] - 6s 309ms/step - loss: 0.0014 - accuracy: 1.0000 - val_loss: 0.6523 - val_accuracy: 0.8771\n",
      "Epoch 38/170\n",
      "18/18 [==============================] - 5s 302ms/step - loss: 0.0013 - accuracy: 1.0000 - val_loss: 0.5488 - val_accuracy: 0.8856\n",
      "Epoch 39/170\n",
      "18/18 [==============================] - 5s 301ms/step - loss: 0.0013 - accuracy: 1.0000 - val_loss: 0.4943 - val_accuracy: 0.8941\n",
      "Epoch 40/170\n",
      "18/18 [==============================] - 5s 306ms/step - loss: 0.0011 - accuracy: 1.0000 - val_loss: 0.4390 - val_accuracy: 0.8983\n",
      "Epoch 41/170\n",
      "18/18 [==============================] - 5s 301ms/step - loss: 0.0012 - accuracy: 1.0000 - val_loss: 0.4000 - val_accuracy: 0.9110\n",
      "Epoch 42/170\n",
      "18/18 [==============================] - 5s 306ms/step - loss: 0.0011 - accuracy: 1.0000 - val_loss: 0.3749 - val_accuracy: 0.9153\n",
      "Epoch 43/170\n",
      "18/18 [==============================] - 5s 301ms/step - loss: 0.0012 - accuracy: 1.0000 - val_loss: 0.3545 - val_accuracy: 0.9195\n",
      "Epoch 44/170\n",
      "18/18 [==============================] - 5s 303ms/step - loss: 0.0010 - accuracy: 1.0000 - val_loss: 0.3385 - val_accuracy: 0.9280\n",
      "Epoch 45/170\n",
      "18/18 [==============================] - 5s 305ms/step - loss: 0.0011 - accuracy: 1.0000 - val_loss: 0.3303 - val_accuracy: 0.9322\n",
      "Epoch 46/170\n",
      "18/18 [==============================] - 5s 303ms/step - loss: 9.5484e-04 - accuracy: 1.0000 - val_loss: 0.3222 - val_accuracy: 0.9322\n",
      "Epoch 47/170\n",
      "18/18 [==============================] - 5s 303ms/step - loss: 9.2224e-04 - accuracy: 1.0000 - val_loss: 0.3136 - val_accuracy: 0.9322\n",
      "Epoch 48/170\n",
      "18/18 [==============================] - 5s 303ms/step - loss: 0.0011 - accuracy: 1.0000 - val_loss: 0.3091 - val_accuracy: 0.9322\n",
      "Epoch 49/170\n",
      "18/18 [==============================] - 5s 307ms/step - loss: 8.7025e-04 - accuracy: 1.0000 - val_loss: 0.3058 - val_accuracy: 0.9322\n",
      "Epoch 50/170\n",
      "18/18 [==============================] - 5s 297ms/step - loss: 9.4064e-04 - accuracy: 1.0000 - val_loss: 0.3030 - val_accuracy: 0.9322\n",
      "Epoch 51/170\n",
      "18/18 [==============================] - 5s 303ms/step - loss: 8.6349e-04 - accuracy: 1.0000 - val_loss: 0.2989 - val_accuracy: 0.9322\n",
      "Epoch 52/170\n",
      "18/18 [==============================] - 5s 299ms/step - loss: 8.8302e-04 - accuracy: 1.0000 - val_loss: 0.2969 - val_accuracy: 0.9407\n",
      "Epoch 53/170\n",
      "18/18 [==============================] - 5s 298ms/step - loss: 8.1677e-04 - accuracy: 1.0000 - val_loss: 0.2956 - val_accuracy: 0.9449\n",
      "Epoch 54/170\n",
      "18/18 [==============================] - 5s 309ms/step - loss: 7.8283e-04 - accuracy: 1.0000 - val_loss: 0.2943 - val_accuracy: 0.9449\n",
      "Epoch 55/170\n",
      "18/18 [==============================] - 5s 303ms/step - loss: 7.8372e-04 - accuracy: 1.0000 - val_loss: 0.2914 - val_accuracy: 0.9449\n",
      "Epoch 56/170\n",
      "18/18 [==============================] - 5s 299ms/step - loss: 7.0457e-04 - accuracy: 1.0000 - val_loss: 0.2907 - val_accuracy: 0.9449\n",
      "Epoch 57/170\n",
      "18/18 [==============================] - 5s 300ms/step - loss: 0.0010 - accuracy: 1.0000 - val_loss: 0.3070 - val_accuracy: 0.9449\n",
      "Epoch 58/170\n",
      "18/18 [==============================] - 5s 299ms/step - loss: 7.7348e-04 - accuracy: 1.0000 - val_loss: 0.2983 - val_accuracy: 0.9364\n",
      "Epoch 59/170\n",
      "18/18 [==============================] - 5s 300ms/step - loss: 6.6896e-04 - accuracy: 1.0000 - val_loss: 0.2911 - val_accuracy: 0.9449\n",
      "Epoch 60/170\n",
      "18/18 [==============================] - 5s 298ms/step - loss: 6.3985e-04 - accuracy: 1.0000 - val_loss: 0.2875 - val_accuracy: 0.9449\n",
      "Epoch 61/170\n",
      "18/18 [==============================] - 5s 302ms/step - loss: 7.0170e-04 - accuracy: 1.0000 - val_loss: 0.2876 - val_accuracy: 0.9449\n",
      "Epoch 62/170\n",
      "18/18 [==============================] - 5s 298ms/step - loss: 6.1968e-04 - accuracy: 1.0000 - val_loss: 0.2854 - val_accuracy: 0.9449\n",
      "Epoch 63/170\n",
      "18/18 [==============================] - 5s 293ms/step - loss: 8.5407e-04 - accuracy: 1.0000 - val_loss: 0.2893 - val_accuracy: 0.9449\n",
      "Epoch 64/170\n",
      "18/18 [==============================] - 5s 296ms/step - loss: 9.0144e-04 - accuracy: 1.0000 - val_loss: 0.3060 - val_accuracy: 0.9280\n",
      "Epoch 65/170\n",
      "18/18 [==============================] - 5s 298ms/step - loss: 7.1020e-04 - accuracy: 1.0000 - val_loss: 0.2925 - val_accuracy: 0.9364\n",
      "Epoch 66/170\n",
      "18/18 [==============================] - 5s 303ms/step - loss: 5.9116e-04 - accuracy: 1.0000 - val_loss: 0.2862 - val_accuracy: 0.9449\n",
      "Epoch 67/170\n",
      "18/18 [==============================] - 5s 297ms/step - loss: 5.6075e-04 - accuracy: 1.0000 - val_loss: 0.2827 - val_accuracy: 0.9449\n",
      "Epoch 68/170\n",
      "18/18 [==============================] - 5s 302ms/step - loss: 5.4785e-04 - accuracy: 1.0000 - val_loss: 0.2815 - val_accuracy: 0.9449\n",
      "Epoch 69/170\n",
      "18/18 [==============================] - 5s 306ms/step - loss: 6.4630e-04 - accuracy: 1.0000 - val_loss: 0.2808 - val_accuracy: 0.9449\n",
      "Epoch 70/170\n",
      "18/18 [==============================] - 5s 301ms/step - loss: 5.6002e-04 - accuracy: 1.0000 - val_loss: 0.2792 - val_accuracy: 0.9449\n",
      "Epoch 71/170\n",
      "18/18 [==============================] - 5s 298ms/step - loss: 5.2051e-04 - accuracy: 1.0000 - val_loss: 0.2782 - val_accuracy: 0.9449\n",
      "Epoch 72/170\n",
      "18/18 [==============================] - 5s 299ms/step - loss: 4.7325e-04 - accuracy: 1.0000 - val_loss: 0.2770 - val_accuracy: 0.9449\n",
      "Epoch 73/170\n",
      "18/18 [==============================] - 5s 295ms/step - loss: 4.6812e-04 - accuracy: 1.0000 - val_loss: 0.2765 - val_accuracy: 0.9449\n",
      "Epoch 74/170\n",
      "18/18 [==============================] - 5s 299ms/step - loss: 4.8521e-04 - accuracy: 1.0000 - val_loss: 0.2744 - val_accuracy: 0.9449\n",
      "Epoch 75/170\n",
      "18/18 [==============================] - 5s 295ms/step - loss: 5.1837e-04 - accuracy: 1.0000 - val_loss: 0.2735 - val_accuracy: 0.9449\n",
      "Epoch 76/170\n",
      "18/18 [==============================] - 5s 301ms/step - loss: 4.3738e-04 - accuracy: 1.0000 - val_loss: 0.2749 - val_accuracy: 0.9449\n",
      "Epoch 77/170\n",
      "18/18 [==============================] - 5s 299ms/step - loss: 4.1305e-04 - accuracy: 1.0000 - val_loss: 0.2722 - val_accuracy: 0.9449\n",
      "Epoch 78/170\n",
      "18/18 [==============================] - 5s 300ms/step - loss: 4.2676e-04 - accuracy: 1.0000 - val_loss: 0.2710 - val_accuracy: 0.9449\n",
      "Epoch 79/170\n",
      "18/18 [==============================] - 5s 302ms/step - loss: 4.3525e-04 - accuracy: 1.0000 - val_loss: 0.2795 - val_accuracy: 0.9449\n",
      "Epoch 80/170\n",
      "18/18 [==============================] - 5s 300ms/step - loss: 4.3407e-04 - accuracy: 1.0000 - val_loss: 0.2757 - val_accuracy: 0.9492\n",
      "Epoch 81/170\n",
      "18/18 [==============================] - 5s 300ms/step - loss: 3.8764e-04 - accuracy: 1.0000 - val_loss: 0.2713 - val_accuracy: 0.9449\n",
      "Epoch 82/170\n",
      "18/18 [==============================] - 5s 299ms/step - loss: 4.5565e-04 - accuracy: 1.0000 - val_loss: 0.2695 - val_accuracy: 0.9449\n",
      "Epoch 83/170\n",
      "18/18 [==============================] - 5s 299ms/step - loss: 3.5839e-04 - accuracy: 1.0000 - val_loss: 0.2684 - val_accuracy: 0.9449\n",
      "Epoch 84/170\n",
      "18/18 [==============================] - 5s 303ms/step - loss: 3.8331e-04 - accuracy: 1.0000 - val_loss: 0.2668 - val_accuracy: 0.9449\n",
      "Epoch 85/170\n",
      "18/18 [==============================] - 5s 304ms/step - loss: 3.7362e-04 - accuracy: 1.0000 - val_loss: 0.2659 - val_accuracy: 0.9449\n",
      "Epoch 86/170\n",
      "18/18 [==============================] - 5s 302ms/step - loss: 3.7886e-04 - accuracy: 1.0000 - val_loss: 0.2656 - val_accuracy: 0.9449\n",
      "Epoch 87/170\n",
      "18/18 [==============================] - 5s 303ms/step - loss: 3.6214e-04 - accuracy: 1.0000 - val_loss: 0.2646 - val_accuracy: 0.9492\n",
      "Epoch 88/170\n",
      "18/18 [==============================] - 5s 297ms/step - loss: 3.7397e-04 - accuracy: 1.0000 - val_loss: 0.2637 - val_accuracy: 0.9449\n",
      "Epoch 89/170\n",
      "18/18 [==============================] - 5s 303ms/step - loss: 3.6748e-04 - accuracy: 1.0000 - val_loss: 0.2637 - val_accuracy: 0.9449\n",
      "Epoch 90/170\n",
      "18/18 [==============================] - 5s 305ms/step - loss: 3.8534e-04 - accuracy: 1.0000 - val_loss: 0.2643 - val_accuracy: 0.9492\n",
      "Epoch 91/170\n",
      "18/18 [==============================] - 6s 307ms/step - loss: 3.7289e-04 - accuracy: 1.0000 - val_loss: 0.2616 - val_accuracy: 0.9449\n",
      "Epoch 92/170\n",
      "18/18 [==============================] - 5s 311ms/step - loss: 3.1939e-04 - accuracy: 1.0000 - val_loss: 0.2616 - val_accuracy: 0.9449\n",
      "Epoch 93/170\n",
      "18/18 [==============================] - 5s 301ms/step - loss: 3.3808e-04 - accuracy: 1.0000 - val_loss: 0.2620 - val_accuracy: 0.9449\n",
      "Epoch 94/170\n",
      "18/18 [==============================] - 5s 306ms/step - loss: 3.3614e-04 - accuracy: 1.0000 - val_loss: 0.2621 - val_accuracy: 0.9492\n",
      "Epoch 95/170\n",
      "18/18 [==============================] - 5s 315ms/step - loss: 2.9656e-04 - accuracy: 1.0000 - val_loss: 0.2613 - val_accuracy: 0.9449\n",
      "Epoch 96/170\n",
      "18/18 [==============================] - 5s 303ms/step - loss: 3.2531e-04 - accuracy: 1.0000 - val_loss: 0.2614 - val_accuracy: 0.9449\n",
      "Epoch 97/170\n",
      "18/18 [==============================] - 5s 302ms/step - loss: 2.7234e-04 - accuracy: 1.0000 - val_loss: 0.2606 - val_accuracy: 0.9449\n",
      "Epoch 98/170\n",
      "18/18 [==============================] - 5s 299ms/step - loss: 3.8749e-04 - accuracy: 1.0000 - val_loss: 0.2600 - val_accuracy: 0.9449\n",
      "Epoch 99/170\n",
      "18/18 [==============================] - 5s 305ms/step - loss: 3.0019e-04 - accuracy: 1.0000 - val_loss: 0.2588 - val_accuracy: 0.9449\n",
      "Epoch 100/170\n",
      "18/18 [==============================] - 5s 300ms/step - loss: 2.7511e-04 - accuracy: 1.0000 - val_loss: 0.2580 - val_accuracy: 0.9449\n",
      "Epoch 101/170\n",
      "18/18 [==============================] - 5s 303ms/step - loss: 2.7107e-04 - accuracy: 1.0000 - val_loss: 0.2575 - val_accuracy: 0.9449\n",
      "Epoch 102/170\n",
      "18/18 [==============================] - 5s 302ms/step - loss: 2.6697e-04 - accuracy: 1.0000 - val_loss: 0.2570 - val_accuracy: 0.9449\n",
      "Epoch 103/170\n",
      "18/18 [==============================] - 5s 303ms/step - loss: 2.7484e-04 - accuracy: 1.0000 - val_loss: 0.2573 - val_accuracy: 0.9449\n",
      "Epoch 104/170\n",
      "18/18 [==============================] - 5s 299ms/step - loss: 3.1540e-04 - accuracy: 1.0000 - val_loss: 0.2574 - val_accuracy: 0.9449\n",
      "Epoch 105/170\n",
      "18/18 [==============================] - 5s 310ms/step - loss: 2.5017e-04 - accuracy: 1.0000 - val_loss: 0.2559 - val_accuracy: 0.9492\n",
      "Epoch 106/170\n",
      "18/18 [==============================] - 6s 305ms/step - loss: 2.6510e-04 - accuracy: 1.0000 - val_loss: 0.2550 - val_accuracy: 0.9492\n",
      "Epoch 107/170\n",
      "18/18 [==============================] - 5s 303ms/step - loss: 2.4800e-04 - accuracy: 1.0000 - val_loss: 0.2545 - val_accuracy: 0.9492\n",
      "Epoch 108/170\n",
      "18/18 [==============================] - 5s 298ms/step - loss: 2.4878e-04 - accuracy: 1.0000 - val_loss: 0.2543 - val_accuracy: 0.9449\n",
      "Epoch 109/170\n",
      "18/18 [==============================] - 5s 300ms/step - loss: 2.3093e-04 - accuracy: 1.0000 - val_loss: 0.2542 - val_accuracy: 0.9449\n",
      "Epoch 110/170\n",
      "18/18 [==============================] - 5s 299ms/step - loss: 2.3070e-04 - accuracy: 1.0000 - val_loss: 0.2529 - val_accuracy: 0.9449\n",
      "Epoch 111/170\n",
      "18/18 [==============================] - 5s 298ms/step - loss: 2.1130e-04 - accuracy: 1.0000 - val_loss: 0.2525 - val_accuracy: 0.9449\n",
      "Epoch 112/170\n",
      "18/18 [==============================] - 5s 304ms/step - loss: 2.4140e-04 - accuracy: 1.0000 - val_loss: 0.2523 - val_accuracy: 0.9492\n",
      "Epoch 113/170\n",
      "18/18 [==============================] - 5s 301ms/step - loss: 2.4484e-04 - accuracy: 1.0000 - val_loss: 0.2589 - val_accuracy: 0.9492\n",
      "Epoch 114/170\n",
      "18/18 [==============================] - 5s 302ms/step - loss: 2.2120e-04 - accuracy: 1.0000 - val_loss: 0.2566 - val_accuracy: 0.9492\n",
      "Epoch 115/170\n",
      "18/18 [==============================] - 5s 297ms/step - loss: 2.4127e-04 - accuracy: 1.0000 - val_loss: 0.2518 - val_accuracy: 0.9492\n",
      "Epoch 116/170\n",
      "18/18 [==============================] - 5s 304ms/step - loss: 2.3371e-04 - accuracy: 1.0000 - val_loss: 0.2512 - val_accuracy: 0.9449\n",
      "Epoch 117/170\n",
      "18/18 [==============================] - 5s 303ms/step - loss: 2.2189e-04 - accuracy: 1.0000 - val_loss: 0.2495 - val_accuracy: 0.9449\n",
      "Epoch 118/170\n",
      "18/18 [==============================] - 5s 303ms/step - loss: 1.9664e-04 - accuracy: 1.0000 - val_loss: 0.2490 - val_accuracy: 0.9449\n",
      "Epoch 119/170\n",
      "18/18 [==============================] - 5s 303ms/step - loss: 1.8739e-04 - accuracy: 1.0000 - val_loss: 0.2491 - val_accuracy: 0.9449\n",
      "Epoch 120/170\n",
      "18/18 [==============================] - 5s 301ms/step - loss: 2.0940e-04 - accuracy: 1.0000 - val_loss: 0.2485 - val_accuracy: 0.9492\n",
      "Epoch 121/170\n",
      "18/18 [==============================] - 5s 303ms/step - loss: 2.0142e-04 - accuracy: 1.0000 - val_loss: 0.2480 - val_accuracy: 0.9492\n",
      "Epoch 122/170\n",
      "18/18 [==============================] - 5s 303ms/step - loss: 1.8798e-04 - accuracy: 1.0000 - val_loss: 0.2479 - val_accuracy: 0.9492\n",
      "Epoch 123/170\n",
      "18/18 [==============================] - 5s 303ms/step - loss: 1.8280e-04 - accuracy: 1.0000 - val_loss: 0.2479 - val_accuracy: 0.9449\n",
      "Epoch 124/170\n",
      "18/18 [==============================] - 5s 307ms/step - loss: 2.0713e-04 - accuracy: 1.0000 - val_loss: 0.2538 - val_accuracy: 0.9449\n",
      "Epoch 125/170\n",
      "18/18 [==============================] - 6s 308ms/step - loss: 2.0303e-04 - accuracy: 1.0000 - val_loss: 0.2544 - val_accuracy: 0.9449\n",
      "Epoch 126/170\n",
      "18/18 [==============================] - 5s 299ms/step - loss: 1.8466e-04 - accuracy: 1.0000 - val_loss: 0.2506 - val_accuracy: 0.9449\n",
      "Epoch 127/170\n",
      "18/18 [==============================] - 5s 305ms/step - loss: 1.9527e-04 - accuracy: 1.0000 - val_loss: 0.2487 - val_accuracy: 0.9492\n",
      "Epoch 128/170\n",
      "18/18 [==============================] - 5s 301ms/step - loss: 1.8803e-04 - accuracy: 1.0000 - val_loss: 0.2475 - val_accuracy: 0.9449\n",
      "Epoch 129/170\n",
      "18/18 [==============================] - 6s 307ms/step - loss: 1.7189e-04 - accuracy: 1.0000 - val_loss: 0.2471 - val_accuracy: 0.9492\n",
      "Epoch 130/170\n",
      "18/18 [==============================] - 5s 300ms/step - loss: 1.7377e-04 - accuracy: 1.0000 - val_loss: 0.2461 - val_accuracy: 0.9449\n",
      "Epoch 131/170\n",
      "18/18 [==============================] - 5s 301ms/step - loss: 1.6851e-04 - accuracy: 1.0000 - val_loss: 0.2452 - val_accuracy: 0.9492\n",
      "Epoch 132/170\n",
      "18/18 [==============================] - 5s 303ms/step - loss: 1.7111e-04 - accuracy: 1.0000 - val_loss: 0.2445 - val_accuracy: 0.9449\n",
      "Epoch 133/170\n",
      "18/18 [==============================] - 5s 300ms/step - loss: 1.6647e-04 - accuracy: 1.0000 - val_loss: 0.2444 - val_accuracy: 0.9449\n",
      "Epoch 134/170\n",
      "18/18 [==============================] - 5s 300ms/step - loss: 1.6535e-04 - accuracy: 1.0000 - val_loss: 0.2440 - val_accuracy: 0.9449\n",
      "Epoch 135/170\n",
      "18/18 [==============================] - 5s 300ms/step - loss: 1.9454e-04 - accuracy: 1.0000 - val_loss: 0.2434 - val_accuracy: 0.9492\n",
      "Epoch 136/170\n",
      "18/18 [==============================] - 6s 305ms/step - loss: 1.6690e-04 - accuracy: 1.0000 - val_loss: 0.2436 - val_accuracy: 0.9449\n",
      "Epoch 137/170\n",
      "18/18 [==============================] - 5s 301ms/step - loss: 1.5524e-04 - accuracy: 1.0000 - val_loss: 0.2435 - val_accuracy: 0.9492\n",
      "Epoch 138/170\n",
      "18/18 [==============================] - 5s 303ms/step - loss: 1.7668e-04 - accuracy: 1.0000 - val_loss: 0.2438 - val_accuracy: 0.9449\n",
      "Epoch 139/170\n",
      "18/18 [==============================] - 5s 301ms/step - loss: 1.8142e-04 - accuracy: 1.0000 - val_loss: 0.2430 - val_accuracy: 0.9449\n",
      "Epoch 140/170\n",
      "18/18 [==============================] - 6s 309ms/step - loss: 1.6033e-04 - accuracy: 1.0000 - val_loss: 0.2422 - val_accuracy: 0.9449\n",
      "Epoch 141/170\n",
      "18/18 [==============================] - 5s 302ms/step - loss: 1.4991e-04 - accuracy: 1.0000 - val_loss: 0.2423 - val_accuracy: 0.9449\n",
      "Epoch 142/170\n",
      "18/18 [==============================] - 5s 314ms/step - loss: 1.5961e-04 - accuracy: 1.0000 - val_loss: 0.2419 - val_accuracy: 0.9449\n",
      "Epoch 143/170\n",
      "18/18 [==============================] - 5s 303ms/step - loss: 1.5308e-04 - accuracy: 1.0000 - val_loss: 0.2415 - val_accuracy: 0.9449\n",
      "Epoch 144/170\n",
      "18/18 [==============================] - 5s 303ms/step - loss: 1.4499e-04 - accuracy: 1.0000 - val_loss: 0.2410 - val_accuracy: 0.9449\n",
      "Epoch 145/170\n",
      "18/18 [==============================] - 6s 308ms/step - loss: 1.3710e-04 - accuracy: 1.0000 - val_loss: 0.2408 - val_accuracy: 0.9449\n",
      "Epoch 146/170\n",
      "18/18 [==============================] - 5s 301ms/step - loss: 1.3539e-04 - accuracy: 1.0000 - val_loss: 0.2407 - val_accuracy: 0.9492\n",
      "Epoch 147/170\n",
      "18/18 [==============================] - 5s 305ms/step - loss: 1.3202e-04 - accuracy: 1.0000 - val_loss: 0.2401 - val_accuracy: 0.9492\n",
      "Epoch 148/170\n",
      "18/18 [==============================] - 5s 301ms/step - loss: 1.4630e-04 - accuracy: 1.0000 - val_loss: 0.2401 - val_accuracy: 0.9449\n",
      "Epoch 149/170\n",
      "18/18 [==============================] - 5s 304ms/step - loss: 1.3862e-04 - accuracy: 1.0000 - val_loss: 0.2399 - val_accuracy: 0.9492\n",
      "Epoch 150/170\n",
      "18/18 [==============================] - 5s 302ms/step - loss: 1.3031e-04 - accuracy: 1.0000 - val_loss: 0.2390 - val_accuracy: 0.9492\n",
      "Epoch 151/170\n",
      "18/18 [==============================] - 5s 305ms/step - loss: 1.3850e-04 - accuracy: 1.0000 - val_loss: 0.2380 - val_accuracy: 0.9492\n",
      "Epoch 152/170\n",
      "18/18 [==============================] - 5s 303ms/step - loss: 1.2840e-04 - accuracy: 1.0000 - val_loss: 0.2373 - val_accuracy: 0.9492\n",
      "Epoch 153/170\n",
      "18/18 [==============================] - 5s 301ms/step - loss: 1.2322e-04 - accuracy: 1.0000 - val_loss: 0.2371 - val_accuracy: 0.9492\n",
      "Epoch 154/170\n",
      "18/18 [==============================] - 6s 306ms/step - loss: 1.4731e-04 - accuracy: 1.0000 - val_loss: 0.2378 - val_accuracy: 0.9492\n",
      "Epoch 155/170\n",
      "18/18 [==============================] - 5s 303ms/step - loss: 1.2817e-04 - accuracy: 1.0000 - val_loss: 0.2378 - val_accuracy: 0.9449\n",
      "Epoch 156/170\n",
      "18/18 [==============================] - 5s 307ms/step - loss: 1.3233e-04 - accuracy: 1.0000 - val_loss: 0.2379 - val_accuracy: 0.9492\n",
      "Epoch 157/170\n",
      "18/18 [==============================] - 5s 300ms/step - loss: 1.2261e-04 - accuracy: 1.0000 - val_loss: 0.2368 - val_accuracy: 0.9492\n",
      "Epoch 158/170\n",
      "18/18 [==============================] - 5s 305ms/step - loss: 1.2074e-04 - accuracy: 1.0000 - val_loss: 0.2365 - val_accuracy: 0.9492\n",
      "Epoch 159/170\n",
      "18/18 [==============================] - 5s 302ms/step - loss: 1.3108e-04 - accuracy: 1.0000 - val_loss: 0.2362 - val_accuracy: 0.9492\n",
      "Epoch 160/170\n",
      "18/18 [==============================] - 6s 325ms/step - loss: 1.2328e-04 - accuracy: 1.0000 - val_loss: 0.2357 - val_accuracy: 0.9449\n",
      "Epoch 161/170\n",
      "18/18 [==============================] - 6s 341ms/step - loss: 1.2399e-04 - accuracy: 1.0000 - val_loss: 0.2354 - val_accuracy: 0.9449\n",
      "Epoch 162/170\n",
      "18/18 [==============================] - 7s 374ms/step - loss: 1.2038e-04 - accuracy: 1.0000 - val_loss: 0.2353 - val_accuracy: 0.9449\n",
      "Epoch 163/170\n",
      "18/18 [==============================] - 7s 380ms/step - loss: 1.1788e-04 - accuracy: 1.0000 - val_loss: 0.2353 - val_accuracy: 0.9449\n",
      "Epoch 164/170\n",
      "18/18 [==============================] - 7s 401ms/step - loss: 1.1889e-04 - accuracy: 1.0000 - val_loss: 0.2348 - val_accuracy: 0.9492\n",
      "Epoch 165/170\n",
      "18/18 [==============================] - 7s 410ms/step - loss: 1.0734e-04 - accuracy: 1.0000 - val_loss: 0.2345 - val_accuracy: 0.9492\n",
      "Epoch 166/170\n",
      "18/18 [==============================] - 7s 386ms/step - loss: 1.1006e-04 - accuracy: 1.0000 - val_loss: 0.2344 - val_accuracy: 0.9449\n",
      "Epoch 167/170\n",
      "18/18 [==============================] - 6s 361ms/step - loss: 1.1521e-04 - accuracy: 1.0000 - val_loss: 0.2346 - val_accuracy: 0.9492\n",
      "Epoch 168/170\n",
      "18/18 [==============================] - 7s 380ms/step - loss: 9.9019e-05 - accuracy: 1.0000 - val_loss: 0.2341 - val_accuracy: 0.9492\n",
      "Epoch 169/170\n",
      "18/18 [==============================] - 7s 367ms/step - loss: 1.0327e-04 - accuracy: 1.0000 - val_loss: 0.2337 - val_accuracy: 0.9492\n",
      "Epoch 170/170\n",
      "18/18 [==============================] - 7s 374ms/step - loss: 1.0520e-04 - accuracy: 1.0000 - val_loss: 0.2333 - val_accuracy: 0.9492\n",
      "for one training time taken: 959.38 seconds\n"
     ]
    }
   ],
   "source": [
    "all_time = model_and_best_hyperparameters([32])"
   ]
  },
  {
   "cell_type": "code",
   "execution_count": 17,
   "id": "7e05ca7b-7539-48ec-92a6-7a7f88d8a982",
   "metadata": {
    "tags": []
   },
   "outputs": [
    {
     "name": "stdout",
     "output_type": "stream",
     "text": [
      "sorted list of max  epochs' values for accuracy   {0: 1.0}\n",
      "sorted list of max  epochs' values for val_accuracy   {0: 0.9491525292396545}\n",
      "all training take 15.99 minutes\n"
     ]
    }
   ],
   "source": [
    "print(\"sorted list of max  epochs' values for accuracy  \", show_best_res(SAVED_MODEL_BEST_ACCURACY_RESULTS))\n",
    "print(\"sorted list of max  epochs' values for val_accuracy  \", show_best_res(SAVED_MODEL_BEST_VAL_ACCURACY_RESULTS))\n",
    "print('all training take {:.2f} minutes'.format(all_time/60))\n",
    "save_lists()  #val accuracy 0.4634"
   ]
  },
  {
   "cell_type": "code",
   "execution_count": 21,
   "id": "67179992-f15d-432b-8e32-45e179ce34b5",
   "metadata": {},
   "outputs": [],
   "source": [
    "# file = 'accuracy Sat May  6 11:19:23.txt'\n",
    "# l = read_list_from_file(file)\n",
    "# print(\"sorted list of max  epochs' values for accuracy  \", show_best_res(l))"
   ]
  },
  {
   "cell_type": "markdown",
   "id": "d8b49b6d-64b7-4aa9-b92e-f71dfeeb6f00",
   "metadata": {},
   "source": [
    "train and save model"
   ]
  },
  {
   "cell_type": "code",
   "execution_count": 35,
   "id": "633a3702-1baf-4dab-a09c-3dee963376fa",
   "metadata": {
    "tags": []
   },
   "outputs": [],
   "source": [
    "def final_model():\n",
    "    ready_model = model(32,64,64,32)\n",
    "    call_back = ModelCheckpoint(f\"/home/jovyan/weights.hdf5\", monitor='val_accuracy', verbose=0, save_best_only=True, save_weights_only=False, mode='auto')\n",
    "    trained_model = ready_model.fit(training_set, steps_per_epoch = len(training_set), epochs = EPOCHS,\n",
    "                                    validation_data = test_set, validation_steps=len(test_set), callbacks = [call_back])\n",
    "    \n",
    "    SAVED_MODEL_BEST_ACCURACY_RESULTS2.append(trained_model.history['accuracy'])\n",
    "    SAVED_MODEL_BEST_VAL_ACCURACY_RESULTS2.append(trained_model.history['val_accuracy'])\n",
    "    return trained_model, ready_model\n"
   ]
  },
  {
   "cell_type": "code",
   "execution_count": 36,
   "id": "c6d089bf-cdf6-466c-b982-050830bc5c5b",
   "metadata": {
    "collapsed": true,
    "jupyter": {
     "outputs_hidden": true
    },
    "tags": []
   },
   "outputs": [
    {
     "name": "stdout",
     "output_type": "stream",
     "text": [
      "Epoch 1/170\n"
     ]
    },
    {
     "name": "stderr",
     "output_type": "stream",
     "text": [
      "2023-05-15 13:53:19.967048: I tensorflow/core/common_runtime/executor.cc:1197] [/device:CPU:0] (DEBUG INFO) Executor start aborting (this does not indicate an error and you can ignore this message): INVALID_ARGUMENT: You must feed a value for placeholder tensor 'Placeholder/_0' with dtype int32\n",
      "\t [[{{node Placeholder/_0}}]]\n"
     ]
    },
    {
     "name": "stdout",
     "output_type": "stream",
     "text": [
      "18/18 [==============================] - ETA: 0s - loss: 6.0534 - accuracy: 0.0054"
     ]
    },
    {
     "name": "stderr",
     "output_type": "stream",
     "text": [
      "2023-05-15 13:53:25.698957: I tensorflow/core/common_runtime/executor.cc:1197] [/device:CPU:0] (DEBUG INFO) Executor start aborting (this does not indicate an error and you can ignore this message): INVALID_ARGUMENT: You must feed a value for placeholder tensor 'Placeholder/_0' with dtype int32\n",
      "\t [[{{node Placeholder/_0}}]]\n"
     ]
    },
    {
     "name": "stdout",
     "output_type": "stream",
     "text": [
      "18/18 [==============================] - 6s 294ms/step - loss: 6.0534 - accuracy: 0.0054 - val_loss: 5.4103 - val_accuracy: 0.0042\n",
      "Epoch 2/170\n",
      "18/18 [==============================] - 5s 299ms/step - loss: 5.9785 - accuracy: 0.0018 - val_loss: 5.4279 - val_accuracy: 0.0042\n",
      "Epoch 3/170\n",
      "18/18 [==============================] - 5s 289ms/step - loss: 5.7982 - accuracy: 0.0018 - val_loss: 5.4588 - val_accuracy: 0.0042\n",
      "Epoch 4/170\n",
      "18/18 [==============================] - 5s 257ms/step - loss: 5.7508 - accuracy: 0.0054 - val_loss: 5.4910 - val_accuracy: 0.0042\n",
      "Epoch 5/170\n",
      "18/18 [==============================] - 5s 258ms/step - loss: 5.7101 - accuracy: 0.0036 - val_loss: 5.5252 - val_accuracy: 0.0042\n",
      "Epoch 6/170\n",
      "18/18 [==============================] - 5s 254ms/step - loss: 5.7014 - accuracy: 0.0018 - val_loss: 5.5476 - val_accuracy: 0.0042\n",
      "Epoch 7/170\n",
      "18/18 [==============================] - 5s 258ms/step - loss: 5.7049 - accuracy: 0.0036 - val_loss: 5.5848 - val_accuracy: 0.0042\n",
      "Epoch 8/170\n",
      "18/18 [==============================] - 5s 270ms/step - loss: 5.6867 - accuracy: 0.0018 - val_loss: 5.6439 - val_accuracy: 0.0042\n",
      "Epoch 9/170\n",
      "18/18 [==============================] - 5s 265ms/step - loss: 5.6903 - accuracy: 0.0018 - val_loss: 5.7289 - val_accuracy: 0.0000e+00\n",
      "Epoch 10/170\n",
      "18/18 [==============================] - 5s 272ms/step - loss: 5.6993 - accuracy: 0.0018 - val_loss: 5.7950 - val_accuracy: 0.0000e+00\n",
      "Epoch 11/170\n",
      "18/18 [==============================] - 5s 293ms/step - loss: 5.6530 - accuracy: 0.0054 - val_loss: 5.9335 - val_accuracy: 0.0000e+00\n",
      "Epoch 12/170\n",
      "18/18 [==============================] - 6s 328ms/step - loss: 5.6787 - accuracy: 0.0072 - val_loss: 6.0556 - val_accuracy: 0.0000e+00\n",
      "Epoch 13/170\n",
      "18/18 [==============================] - 6s 304ms/step - loss: 5.6293 - accuracy: 0.0072 - val_loss: 6.0961 - val_accuracy: 0.0000e+00\n",
      "Epoch 14/170\n",
      "18/18 [==============================] - 5s 290ms/step - loss: 5.6053 - accuracy: 0.0144 - val_loss: 6.1484 - val_accuracy: 0.0000e+00\n",
      "Epoch 15/170\n",
      "18/18 [==============================] - 5s 287ms/step - loss: 5.6399 - accuracy: 0.0180 - val_loss: 6.2875 - val_accuracy: 0.0000e+00\n",
      "Epoch 16/170\n",
      "18/18 [==============================] - 5s 300ms/step - loss: 5.6162 - accuracy: 0.0108 - val_loss: 6.2047 - val_accuracy: 0.0000e+00\n",
      "Epoch 17/170\n",
      "18/18 [==============================] - 5s 289ms/step - loss: 5.5939 - accuracy: 0.0162 - val_loss: 6.3373 - val_accuracy: 0.0000e+00\n",
      "Epoch 18/170\n",
      "18/18 [==============================] - 6s 316ms/step - loss: 5.5793 - accuracy: 0.0144 - val_loss: 6.4072 - val_accuracy: 0.0000e+00\n",
      "Epoch 19/170\n",
      "18/18 [==============================] - 5s 299ms/step - loss: 5.6014 - accuracy: 0.0144 - val_loss: 6.5191 - val_accuracy: 0.0000e+00\n",
      "Epoch 20/170\n",
      "18/18 [==============================] - 7s 361ms/step - loss: 5.5985 - accuracy: 0.0180 - val_loss: 6.5162 - val_accuracy: 0.0000e+00\n",
      "Epoch 21/170\n",
      "18/18 [==============================] - 7s 391ms/step - loss: 5.5711 - accuracy: 0.0162 - val_loss: 6.5704 - val_accuracy: 0.0000e+00\n",
      "Epoch 22/170\n",
      "18/18 [==============================] - 7s 382ms/step - loss: 5.5178 - accuracy: 0.0162 - val_loss: 6.5947 - val_accuracy: 0.0000e+00\n",
      "Epoch 23/170\n",
      "18/18 [==============================] - 7s 365ms/step - loss: 5.5555 - accuracy: 0.0162 - val_loss: 6.7093 - val_accuracy: 0.0000e+00\n",
      "Epoch 24/170\n",
      "18/18 [==============================] - 6s 308ms/step - loss: 5.5641 - accuracy: 0.0144 - val_loss: 6.8169 - val_accuracy: 0.0000e+00\n",
      "Epoch 25/170\n",
      "18/18 [==============================] - 6s 337ms/step - loss: 5.5594 - accuracy: 0.0180 - val_loss: 6.6731 - val_accuracy: 0.0000e+00\n",
      "Epoch 26/170\n",
      "18/18 [==============================] - 6s 330ms/step - loss: 5.5621 - accuracy: 0.0180 - val_loss: 6.7528 - val_accuracy: 0.0000e+00\n",
      "Epoch 27/170\n",
      "18/18 [==============================] - 6s 329ms/step - loss: 5.5489 - accuracy: 0.0233 - val_loss: 6.6825 - val_accuracy: 0.0000e+00\n",
      "Epoch 28/170\n",
      "18/18 [==============================] - 6s 326ms/step - loss: 5.5843 - accuracy: 0.0126 - val_loss: 6.8725 - val_accuracy: 0.0000e+00\n",
      "Epoch 29/170\n",
      "18/18 [==============================] - 6s 328ms/step - loss: 5.5445 - accuracy: 0.0215 - val_loss: 7.0015 - val_accuracy: 0.0000e+00\n",
      "Epoch 30/170\n",
      "18/18 [==============================] - 6s 325ms/step - loss: 5.5774 - accuracy: 0.0162 - val_loss: 6.6908 - val_accuracy: 0.0000e+00\n",
      "Epoch 31/170\n",
      "18/18 [==============================] - 6s 324ms/step - loss: 5.5703 - accuracy: 0.0180 - val_loss: 6.5508 - val_accuracy: 0.0000e+00\n",
      "Epoch 32/170\n",
      "18/18 [==============================] - 6s 328ms/step - loss: 5.5444 - accuracy: 0.0215 - val_loss: 6.7165 - val_accuracy: 0.0000e+00\n",
      "Epoch 33/170\n",
      "18/18 [==============================] - 6s 340ms/step - loss: 5.5186 - accuracy: 0.0197 - val_loss: 7.3393 - val_accuracy: 0.0000e+00\n",
      "Epoch 34/170\n",
      "18/18 [==============================] - 6s 340ms/step - loss: 5.5797 - accuracy: 0.0215 - val_loss: 9.1243 - val_accuracy: 0.0000e+00\n",
      "Epoch 35/170\n",
      "18/18 [==============================] - 6s 326ms/step - loss: 5.5557 - accuracy: 0.0144 - val_loss: 9.6081 - val_accuracy: 0.0000e+00\n",
      "Epoch 36/170\n",
      "18/18 [==============================] - 6s 323ms/step - loss: 5.5364 - accuracy: 0.0162 - val_loss: 10.3689 - val_accuracy: 0.0000e+00\n",
      "Epoch 37/170\n",
      "18/18 [==============================] - 6s 327ms/step - loss: 5.4606 - accuracy: 0.0144 - val_loss: 11.4548 - val_accuracy: 0.0000e+00\n",
      "Epoch 38/170\n",
      "18/18 [==============================] - 6s 334ms/step - loss: 5.4509 - accuracy: 0.0215 - val_loss: 12.2523 - val_accuracy: 0.0000e+00\n",
      "Epoch 39/170\n",
      "18/18 [==============================] - 6s 323ms/step - loss: 5.5339 - accuracy: 0.0215 - val_loss: 12.3220 - val_accuracy: 0.0000e+00\n",
      "Epoch 40/170\n",
      "18/18 [==============================] - 6s 324ms/step - loss: 5.4721 - accuracy: 0.0197 - val_loss: 12.9407 - val_accuracy: 0.0000e+00\n",
      "Epoch 41/170\n",
      "18/18 [==============================] - 6s 330ms/step - loss: 5.4386 - accuracy: 0.0215 - val_loss: 13.5555 - val_accuracy: 0.0000e+00\n",
      "Epoch 42/170\n",
      "18/18 [==============================] - 6s 324ms/step - loss: 5.4313 - accuracy: 0.0323 - val_loss: 13.5748 - val_accuracy: 0.0000e+00\n",
      "Epoch 43/170\n",
      "18/18 [==============================] - 6s 327ms/step - loss: 5.4145 - accuracy: 0.0269 - val_loss: 13.4417 - val_accuracy: 0.0000e+00\n",
      "Epoch 44/170\n",
      "18/18 [==============================] - 6s 333ms/step - loss: 5.4446 - accuracy: 0.0215 - val_loss: 11.7741 - val_accuracy: 0.0000e+00\n",
      "Epoch 45/170\n",
      "18/18 [==============================] - 6s 328ms/step - loss: 5.3982 - accuracy: 0.0180 - val_loss: 10.7811 - val_accuracy: 0.0000e+00\n",
      "Epoch 46/170\n",
      "18/18 [==============================] - 6s 322ms/step - loss: 5.4462 - accuracy: 0.0197 - val_loss: 9.8374 - val_accuracy: 0.0000e+00\n",
      "Epoch 47/170\n",
      "18/18 [==============================] - 6s 324ms/step - loss: 5.4461 - accuracy: 0.0323 - val_loss: 9.2349 - val_accuracy: 0.0000e+00\n",
      "Epoch 48/170\n",
      "18/18 [==============================] - 6s 327ms/step - loss: 5.4380 - accuracy: 0.0269 - val_loss: 9.1298 - val_accuracy: 0.0000e+00\n",
      "Epoch 49/170\n",
      "18/18 [==============================] - 6s 323ms/step - loss: 5.3536 - accuracy: 0.0323 - val_loss: 9.2437 - val_accuracy: 0.0000e+00\n",
      "Epoch 50/170\n",
      "18/18 [==============================] - 6s 327ms/step - loss: 5.4000 - accuracy: 0.0251 - val_loss: 9.6440 - val_accuracy: 0.0000e+00\n",
      "Epoch 51/170\n",
      "18/18 [==============================] - 6s 327ms/step - loss: 5.3954 - accuracy: 0.0287 - val_loss: 9.3959 - val_accuracy: 0.0000e+00\n",
      "Epoch 52/170\n",
      "18/18 [==============================] - 6s 320ms/step - loss: 5.3667 - accuracy: 0.0233 - val_loss: 8.4451 - val_accuracy: 0.0000e+00\n",
      "Epoch 53/170\n",
      "18/18 [==============================] - 6s 324ms/step - loss: 5.2728 - accuracy: 0.0215 - val_loss: 7.3246 - val_accuracy: 0.0000e+00\n",
      "Epoch 54/170\n",
      "18/18 [==============================] - 6s 327ms/step - loss: 5.2111 - accuracy: 0.0413 - val_loss: 6.9730 - val_accuracy: 0.0000e+00\n",
      "Epoch 55/170\n",
      "18/18 [==============================] - 6s 324ms/step - loss: 5.2526 - accuracy: 0.0341 - val_loss: 6.8661 - val_accuracy: 0.0000e+00\n",
      "Epoch 56/170\n",
      "18/18 [==============================] - 6s 327ms/step - loss: 5.2391 - accuracy: 0.0269 - val_loss: 6.4454 - val_accuracy: 0.0000e+00\n",
      "Epoch 57/170\n",
      "18/18 [==============================] - 6s 326ms/step - loss: 5.2838 - accuracy: 0.0323 - val_loss: 6.5011 - val_accuracy: 0.0042\n",
      "Epoch 58/170\n",
      "18/18 [==============================] - 6s 325ms/step - loss: 5.2727 - accuracy: 0.0233 - val_loss: 6.8838 - val_accuracy: 0.0000e+00\n",
      "Epoch 59/170\n",
      "18/18 [==============================] - 6s 331ms/step - loss: 5.2320 - accuracy: 0.0341 - val_loss: 6.5372 - val_accuracy: 0.0000e+00\n",
      "Epoch 60/170\n",
      "18/18 [==============================] - 6s 329ms/step - loss: 5.2422 - accuracy: 0.0305 - val_loss: 6.3979 - val_accuracy: 0.0000e+00\n",
      "Epoch 61/170\n",
      "18/18 [==============================] - 6s 326ms/step - loss: 5.2564 - accuracy: 0.0269 - val_loss: 6.2634 - val_accuracy: 0.0000e+00\n",
      "Epoch 62/170\n",
      "18/18 [==============================] - 6s 336ms/step - loss: 5.2159 - accuracy: 0.0323 - val_loss: 6.2501 - val_accuracy: 0.0127\n",
      "Epoch 63/170\n",
      "18/18 [==============================] - 6s 327ms/step - loss: 5.2345 - accuracy: 0.0287 - val_loss: 6.3738 - val_accuracy: 0.0000e+00\n",
      "Epoch 64/170\n",
      "18/18 [==============================] - 6s 324ms/step - loss: 5.2051 - accuracy: 0.0287 - val_loss: 6.2840 - val_accuracy: 0.0000e+00\n",
      "Epoch 65/170\n",
      "18/18 [==============================] - 6s 331ms/step - loss: 5.2044 - accuracy: 0.0305 - val_loss: 6.3067 - val_accuracy: 0.0000e+00\n",
      "Epoch 66/170\n",
      "18/18 [==============================] - 6s 324ms/step - loss: 5.2448 - accuracy: 0.0323 - val_loss: 6.1591 - val_accuracy: 0.0042\n",
      "Epoch 67/170\n",
      "18/18 [==============================] - 6s 337ms/step - loss: 5.2051 - accuracy: 0.0341 - val_loss: 6.2326 - val_accuracy: 0.0000e+00\n",
      "Epoch 68/170\n",
      "18/18 [==============================] - 6s 338ms/step - loss: 5.1765 - accuracy: 0.0359 - val_loss: 6.3208 - val_accuracy: 0.0000e+00\n",
      "Epoch 69/170\n",
      "18/18 [==============================] - 6s 332ms/step - loss: 5.1683 - accuracy: 0.0341 - val_loss: 6.2834 - val_accuracy: 0.0042\n",
      "Epoch 70/170\n",
      "18/18 [==============================] - 6s 332ms/step - loss: 5.1746 - accuracy: 0.0359 - val_loss: 6.3212 - val_accuracy: 0.0042\n",
      "Epoch 71/170\n",
      "18/18 [==============================] - 6s 324ms/step - loss: 5.1982 - accuracy: 0.0341 - val_loss: 6.2643 - val_accuracy: 0.0042\n",
      "Epoch 72/170\n",
      "18/18 [==============================] - 6s 322ms/step - loss: 5.1782 - accuracy: 0.0305 - val_loss: 6.1881 - val_accuracy: 0.0085\n",
      "Epoch 73/170\n",
      "18/18 [==============================] - 6s 330ms/step - loss: 5.1642 - accuracy: 0.0341 - val_loss: 6.2431 - val_accuracy: 0.0042\n",
      "Epoch 74/170\n",
      "18/18 [==============================] - 6s 329ms/step - loss: 5.3462 - accuracy: 0.0287 - val_loss: 6.4052 - val_accuracy: 0.0042\n",
      "Epoch 75/170\n",
      "18/18 [==============================] - 6s 330ms/step - loss: 5.2684 - accuracy: 0.0251 - val_loss: 6.6226 - val_accuracy: 0.0085\n",
      "Epoch 76/170\n",
      "18/18 [==============================] - 6s 330ms/step - loss: 5.2221 - accuracy: 0.0341 - val_loss: 6.7693 - val_accuracy: 0.0085\n",
      "Epoch 77/170\n",
      "18/18 [==============================] - 5s 299ms/step - loss: 5.2050 - accuracy: 0.0251 - val_loss: 6.6664 - val_accuracy: 0.0085\n",
      "Epoch 78/170\n",
      "18/18 [==============================] - 5s 269ms/step - loss: 5.1995 - accuracy: 0.0359 - val_loss: 6.5977 - val_accuracy: 0.0085\n",
      "Epoch 79/170\n",
      "18/18 [==============================] - 5s 286ms/step - loss: 5.1789 - accuracy: 0.0377 - val_loss: 6.7172 - val_accuracy: 0.0085\n",
      "Epoch 80/170\n",
      "18/18 [==============================] - 6s 335ms/step - loss: 5.2084 - accuracy: 0.0251 - val_loss: 6.6873 - val_accuracy: 0.0085\n",
      "Epoch 81/170\n",
      "18/18 [==============================] - 6s 339ms/step - loss: 5.2600 - accuracy: 0.0323 - val_loss: 6.6168 - val_accuracy: 0.0042\n",
      "Epoch 82/170\n",
      "18/18 [==============================] - 6s 327ms/step - loss: 5.2113 - accuracy: 0.0359 - val_loss: 6.6727 - val_accuracy: 0.0042\n",
      "Epoch 83/170\n",
      "18/18 [==============================] - 6s 325ms/step - loss: 5.1998 - accuracy: 0.0287 - val_loss: 6.6459 - val_accuracy: 0.0042\n",
      "Epoch 84/170\n",
      "18/18 [==============================] - 6s 325ms/step - loss: 5.1751 - accuracy: 0.0269 - val_loss: 6.8937 - val_accuracy: 0.0042\n",
      "Epoch 85/170\n",
      "18/18 [==============================] - 6s 327ms/step - loss: 5.1660 - accuracy: 0.0305 - val_loss: 6.6095 - val_accuracy: 0.0042\n",
      "Epoch 86/170\n",
      "18/18 [==============================] - 6s 331ms/step - loss: 5.1463 - accuracy: 0.0341 - val_loss: 6.8083 - val_accuracy: 0.0042\n",
      "Epoch 87/170\n",
      "18/18 [==============================] - 6s 337ms/step - loss: 5.1632 - accuracy: 0.0269 - val_loss: 6.8298 - val_accuracy: 0.0042\n",
      "Epoch 88/170\n",
      "18/18 [==============================] - 6s 322ms/step - loss: 5.1537 - accuracy: 0.0305 - val_loss: 6.9559 - val_accuracy: 0.0042\n",
      "Epoch 89/170\n",
      "18/18 [==============================] - 6s 325ms/step - loss: 5.1683 - accuracy: 0.0377 - val_loss: 6.7931 - val_accuracy: 0.0042\n",
      "Epoch 90/170\n",
      "18/18 [==============================] - 6s 324ms/step - loss: 5.1720 - accuracy: 0.0323 - val_loss: 6.6551 - val_accuracy: 0.0042\n",
      "Epoch 91/170\n",
      "18/18 [==============================] - 6s 329ms/step - loss: 5.1564 - accuracy: 0.0359 - val_loss: 6.7419 - val_accuracy: 0.0042\n",
      "Epoch 92/170\n",
      "18/18 [==============================] - 6s 326ms/step - loss: 5.1639 - accuracy: 0.0341 - val_loss: 6.6219 - val_accuracy: 0.0042\n",
      "Epoch 93/170\n",
      "18/18 [==============================] - 6s 329ms/step - loss: 5.1727 - accuracy: 0.0359 - val_loss: 6.6577 - val_accuracy: 0.0042\n",
      "Epoch 94/170\n",
      "18/18 [==============================] - 6s 324ms/step - loss: 5.1768 - accuracy: 0.0287 - val_loss: 6.4297 - val_accuracy: 0.0085\n",
      "Epoch 95/170\n",
      "18/18 [==============================] - 6s 326ms/step - loss: 5.1547 - accuracy: 0.0305 - val_loss: 6.5847 - val_accuracy: 0.0000e+00\n",
      "Epoch 96/170\n",
      "18/18 [==============================] - 6s 329ms/step - loss: 5.1430 - accuracy: 0.0359 - val_loss: 6.4711 - val_accuracy: 0.0000e+00\n",
      "Epoch 97/170\n",
      "18/18 [==============================] - 6s 329ms/step - loss: 5.1629 - accuracy: 0.0341 - val_loss: 6.8201 - val_accuracy: 0.0042\n",
      "Epoch 98/170\n",
      "18/18 [==============================] - 6s 324ms/step - loss: 5.1675 - accuracy: 0.0287 - val_loss: 6.8759 - val_accuracy: 0.0042\n",
      "Epoch 99/170\n",
      "18/18 [==============================] - 6s 325ms/step - loss: 5.1441 - accuracy: 0.0359 - val_loss: 6.7339 - val_accuracy: 0.0000e+00\n",
      "Epoch 100/170\n",
      "18/18 [==============================] - 6s 328ms/step - loss: 5.1814 - accuracy: 0.0323 - val_loss: 6.9361 - val_accuracy: 0.0042\n",
      "Epoch 101/170\n",
      "18/18 [==============================] - 6s 326ms/step - loss: 5.1510 - accuracy: 0.0341 - val_loss: 6.7555 - val_accuracy: 0.0000e+00\n",
      "Epoch 102/170\n",
      "18/18 [==============================] - 6s 327ms/step - loss: 5.1401 - accuracy: 0.0431 - val_loss: 6.6425 - val_accuracy: 0.0042\n",
      "Epoch 103/170\n",
      "18/18 [==============================] - 6s 324ms/step - loss: 5.1515 - accuracy: 0.0269 - val_loss: 6.6379 - val_accuracy: 0.0085\n",
      "Epoch 104/170\n",
      "18/18 [==============================] - 6s 327ms/step - loss: 5.1515 - accuracy: 0.0395 - val_loss: 6.6325 - val_accuracy: 0.0085\n",
      "Epoch 105/170\n",
      "18/18 [==============================] - 6s 322ms/step - loss: 5.1789 - accuracy: 0.0341 - val_loss: 6.6942 - val_accuracy: 0.0042\n",
      "Epoch 106/170\n",
      "18/18 [==============================] - 6s 330ms/step - loss: 5.1377 - accuracy: 0.0413 - val_loss: 7.0516 - val_accuracy: 0.0042\n",
      "Epoch 107/170\n",
      "18/18 [==============================] - 6s 324ms/step - loss: 5.1564 - accuracy: 0.0413 - val_loss: 7.5091 - val_accuracy: 0.0042\n",
      "Epoch 108/170\n",
      "18/18 [==============================] - 6s 329ms/step - loss: 5.1482 - accuracy: 0.0377 - val_loss: 7.6959 - val_accuracy: 0.0042\n",
      "Epoch 109/170\n",
      "18/18 [==============================] - 6s 325ms/step - loss: 5.1941 - accuracy: 0.0467 - val_loss: 7.4881 - val_accuracy: 0.0042\n",
      "Epoch 110/170\n",
      "18/18 [==============================] - 6s 331ms/step - loss: 5.1286 - accuracy: 0.0377 - val_loss: 7.5805 - val_accuracy: 0.0000e+00\n",
      "Epoch 111/170\n",
      "18/18 [==============================] - 6s 329ms/step - loss: 5.1702 - accuracy: 0.0377 - val_loss: 7.1258 - val_accuracy: 0.0042\n",
      "Epoch 112/170\n",
      "18/18 [==============================] - 6s 327ms/step - loss: 5.1427 - accuracy: 0.0395 - val_loss: 7.0091 - val_accuracy: 0.0000e+00\n",
      "Epoch 113/170\n",
      "18/18 [==============================] - 6s 331ms/step - loss: 5.1497 - accuracy: 0.0377 - val_loss: 7.0623 - val_accuracy: 0.0042\n",
      "Epoch 114/170\n",
      "18/18 [==============================] - 6s 324ms/step - loss: 5.1577 - accuracy: 0.0377 - val_loss: 7.0339 - val_accuracy: 0.0042\n",
      "Epoch 115/170\n",
      "18/18 [==============================] - 6s 330ms/step - loss: 5.1565 - accuracy: 0.0305 - val_loss: 6.9634 - val_accuracy: 0.0042\n",
      "Epoch 116/170\n",
      "18/18 [==============================] - 6s 327ms/step - loss: 5.1457 - accuracy: 0.0431 - val_loss: 7.2154 - val_accuracy: 0.0042\n",
      "Epoch 117/170\n",
      "18/18 [==============================] - 6s 323ms/step - loss: 5.1474 - accuracy: 0.0377 - val_loss: 7.0783 - val_accuracy: 0.0000e+00\n",
      "Epoch 118/170\n",
      "18/18 [==============================] - 6s 326ms/step - loss: 5.1309 - accuracy: 0.0377 - val_loss: 6.9773 - val_accuracy: 0.0000e+00\n",
      "Epoch 119/170\n",
      "18/18 [==============================] - 6s 335ms/step - loss: 5.1333 - accuracy: 0.0449 - val_loss: 7.1252 - val_accuracy: 0.0042\n",
      "Epoch 120/170\n",
      "18/18 [==============================] - 6s 328ms/step - loss: 5.1334 - accuracy: 0.0377 - val_loss: 7.2187 - val_accuracy: 0.0042\n",
      "Epoch 121/170\n",
      "18/18 [==============================] - 6s 325ms/step - loss: 5.1629 - accuracy: 0.0359 - val_loss: 6.9940 - val_accuracy: 0.0000e+00\n",
      "Epoch 122/170\n",
      "18/18 [==============================] - 6s 330ms/step - loss: 5.1821 - accuracy: 0.0359 - val_loss: 6.9270 - val_accuracy: 0.0042\n",
      "Epoch 123/170\n",
      "18/18 [==============================] - 6s 330ms/step - loss: 5.1508 - accuracy: 0.0359 - val_loss: 7.0906 - val_accuracy: 0.0042\n",
      "Epoch 124/170\n",
      "18/18 [==============================] - 6s 328ms/step - loss: 5.1641 - accuracy: 0.0305 - val_loss: 7.0557 - val_accuracy: 0.0042\n",
      "Epoch 125/170\n",
      "18/18 [==============================] - 6s 327ms/step - loss: 5.1409 - accuracy: 0.0413 - val_loss: 7.1946 - val_accuracy: 0.0042\n",
      "Epoch 126/170\n",
      "18/18 [==============================] - 6s 331ms/step - loss: 5.1323 - accuracy: 0.0413 - val_loss: 7.0083 - val_accuracy: 0.0042\n",
      "Epoch 127/170\n",
      "18/18 [==============================] - 6s 328ms/step - loss: 5.1293 - accuracy: 0.0449 - val_loss: 7.1007 - val_accuracy: 0.0042\n",
      "Epoch 128/170\n",
      "18/18 [==============================] - 6s 325ms/step - loss: 5.1436 - accuracy: 0.0377 - val_loss: 7.0100 - val_accuracy: 0.0042\n",
      "Epoch 129/170\n",
      "18/18 [==============================] - 6s 329ms/step - loss: 5.1551 - accuracy: 0.0341 - val_loss: 7.2522 - val_accuracy: 0.0085\n",
      "Epoch 130/170\n",
      "18/18 [==============================] - 6s 353ms/step - loss: 5.1250 - accuracy: 0.0413 - val_loss: 6.9951 - val_accuracy: 0.0042\n",
      "Epoch 131/170\n",
      "18/18 [==============================] - 6s 339ms/step - loss: 5.1443 - accuracy: 0.0323 - val_loss: 6.9024 - val_accuracy: 0.0042\n",
      "Epoch 132/170\n",
      "18/18 [==============================] - 6s 335ms/step - loss: 5.1474 - accuracy: 0.0305 - val_loss: 7.0207 - val_accuracy: 0.0085\n",
      "Epoch 133/170\n",
      "18/18 [==============================] - 6s 330ms/step - loss: 5.1334 - accuracy: 0.0323 - val_loss: 7.0756 - val_accuracy: 0.0042\n",
      "Epoch 134/170\n",
      "18/18 [==============================] - 6s 329ms/step - loss: 5.1436 - accuracy: 0.0449 - val_loss: 7.0079 - val_accuracy: 0.0085\n",
      "Epoch 135/170\n",
      "18/18 [==============================] - 6s 340ms/step - loss: 5.1348 - accuracy: 0.0377 - val_loss: 7.1682 - val_accuracy: 0.0042\n",
      "Epoch 136/170\n",
      "18/18 [==============================] - 6s 323ms/step - loss: 5.1602 - accuracy: 0.0341 - val_loss: 7.3704 - val_accuracy: 0.0042\n",
      "Epoch 137/170\n",
      "18/18 [==============================] - 6s 326ms/step - loss: 5.1244 - accuracy: 0.0341 - val_loss: 7.4904 - val_accuracy: 0.0042\n",
      "Epoch 138/170\n",
      "18/18 [==============================] - 6s 326ms/step - loss: 5.1459 - accuracy: 0.0359 - val_loss: 7.1937 - val_accuracy: 0.0042\n",
      "Epoch 139/170\n",
      "18/18 [==============================] - 6s 328ms/step - loss: 5.1283 - accuracy: 0.0377 - val_loss: 7.0846 - val_accuracy: 0.0042\n",
      "Epoch 140/170\n",
      "18/18 [==============================] - 6s 331ms/step - loss: 5.1327 - accuracy: 0.0485 - val_loss: 7.3254 - val_accuracy: 0.0042\n",
      "Epoch 141/170\n",
      "18/18 [==============================] - 6s 324ms/step - loss: 5.1470 - accuracy: 0.0467 - val_loss: 7.5044 - val_accuracy: 0.0042\n",
      "Epoch 142/170\n",
      "18/18 [==============================] - 6s 322ms/step - loss: 5.1309 - accuracy: 0.0431 - val_loss: 7.4255 - val_accuracy: 0.0042\n",
      "Epoch 143/170\n",
      "18/18 [==============================] - 6s 329ms/step - loss: 5.1334 - accuracy: 0.0341 - val_loss: 7.3506 - val_accuracy: 0.0042\n",
      "Epoch 144/170\n",
      "18/18 [==============================] - 6s 329ms/step - loss: 5.1485 - accuracy: 0.0377 - val_loss: 7.2758 - val_accuracy: 0.0042\n",
      "Epoch 145/170\n",
      "18/18 [==============================] - 6s 324ms/step - loss: 5.1283 - accuracy: 0.0377 - val_loss: 7.3973 - val_accuracy: 0.0042\n",
      "Epoch 146/170\n",
      "18/18 [==============================] - 6s 319ms/step - loss: 5.1231 - accuracy: 0.0413 - val_loss: 7.1479 - val_accuracy: 0.0042\n",
      "Epoch 147/170\n",
      "18/18 [==============================] - 6s 329ms/step - loss: 5.1470 - accuracy: 0.0467 - val_loss: 7.1592 - val_accuracy: 0.0042\n",
      "Epoch 148/170\n",
      "18/18 [==============================] - 6s 323ms/step - loss: 5.1291 - accuracy: 0.0359 - val_loss: 7.1723 - val_accuracy: 0.0042\n",
      "Epoch 149/170\n",
      "18/18 [==============================] - 6s 328ms/step - loss: 5.1402 - accuracy: 0.0431 - val_loss: 7.3481 - val_accuracy: 0.0127\n",
      "Epoch 150/170\n",
      "18/18 [==============================] - 6s 328ms/step - loss: 5.1243 - accuracy: 0.0395 - val_loss: 7.5988 - val_accuracy: 0.0042\n",
      "Epoch 151/170\n",
      "18/18 [==============================] - 6s 324ms/step - loss: 5.1487 - accuracy: 0.0359 - val_loss: 7.1416 - val_accuracy: 0.0000e+00\n",
      "Epoch 152/170\n",
      "18/18 [==============================] - 6s 331ms/step - loss: 5.1285 - accuracy: 0.0449 - val_loss: 7.2395 - val_accuracy: 0.0085\n",
      "Epoch 153/170\n",
      "18/18 [==============================] - 6s 325ms/step - loss: 5.1354 - accuracy: 0.0341 - val_loss: 7.1290 - val_accuracy: 0.0127\n",
      "Epoch 154/170\n",
      "18/18 [==============================] - 6s 332ms/step - loss: 5.1370 - accuracy: 0.0449 - val_loss: 7.0094 - val_accuracy: 0.0085\n",
      "Epoch 155/170\n",
      "18/18 [==============================] - 6s 329ms/step - loss: 5.1457 - accuracy: 0.0359 - val_loss: 7.2303 - val_accuracy: 0.0000e+00\n",
      "Epoch 156/170\n",
      "18/18 [==============================] - 6s 324ms/step - loss: 5.1431 - accuracy: 0.0449 - val_loss: 7.2604 - val_accuracy: 0.0042\n",
      "Epoch 157/170\n",
      "18/18 [==============================] - 6s 325ms/step - loss: 5.1343 - accuracy: 0.0341 - val_loss: 7.4175 - val_accuracy: 0.0042\n",
      "Epoch 158/170\n",
      "18/18 [==============================] - 6s 328ms/step - loss: 5.1353 - accuracy: 0.0395 - val_loss: 7.1888 - val_accuracy: 0.0085\n",
      "Epoch 159/170\n",
      "18/18 [==============================] - 6s 332ms/step - loss: 5.1422 - accuracy: 0.0341 - val_loss: 7.0025 - val_accuracy: 0.0000e+00\n",
      "Epoch 160/170\n",
      "18/18 [==============================] - 6s 325ms/step - loss: 5.1239 - accuracy: 0.0377 - val_loss: 7.0696 - val_accuracy: 0.0000e+00\n",
      "Epoch 161/170\n",
      "18/18 [==============================] - 6s 328ms/step - loss: 5.1396 - accuracy: 0.0323 - val_loss: 7.3684 - val_accuracy: 0.0042\n",
      "Epoch 162/170\n",
      "18/18 [==============================] - 6s 326ms/step - loss: 5.1263 - accuracy: 0.0395 - val_loss: 7.4141 - val_accuracy: 0.0042\n",
      "Epoch 163/170\n",
      "18/18 [==============================] - 6s 327ms/step - loss: 5.1394 - accuracy: 0.0323 - val_loss: 7.3398 - val_accuracy: 0.0042\n",
      "Epoch 164/170\n",
      "18/18 [==============================] - 6s 327ms/step - loss: 5.1523 - accuracy: 0.0305 - val_loss: 7.2217 - val_accuracy: 0.0000e+00\n",
      "Epoch 165/170\n",
      "18/18 [==============================] - 6s 345ms/step - loss: 5.1225 - accuracy: 0.0413 - val_loss: 7.2696 - val_accuracy: 0.0042\n",
      "Epoch 166/170\n",
      "18/18 [==============================] - 7s 403ms/step - loss: 5.1309 - accuracy: 0.0413 - val_loss: 6.9941 - val_accuracy: 0.0085\n",
      "Epoch 167/170\n",
      "18/18 [==============================] - 7s 362ms/step - loss: 5.1464 - accuracy: 0.0413 - val_loss: 7.1973 - val_accuracy: 0.0042\n",
      "Epoch 168/170\n",
      "18/18 [==============================] - 6s 349ms/step - loss: 5.1422 - accuracy: 0.0377 - val_loss: 7.1308 - val_accuracy: 0.0000e+00\n",
      "Epoch 169/170\n",
      "18/18 [==============================] - 7s 362ms/step - loss: 5.1283 - accuracy: 0.0359 - val_loss: 7.1786 - val_accuracy: 0.0042\n",
      "Epoch 170/170\n",
      "18/18 [==============================] - 6s 354ms/step - loss: 5.1122 - accuracy: 0.0431 - val_loss: 7.1923 - val_accuracy: 0.0042\n"
     ]
    }
   ],
   "source": [
    "history, trained_model = final_model()"
   ]
  },
  {
   "cell_type": "markdown",
   "id": "f0dd227c-d4d8-4b5d-80fe-3f7959fa5aa4",
   "metadata": {},
   "source": [
    "plot model"
   ]
  },
  {
   "cell_type": "code",
   "execution_count": 18,
   "id": "aa9d3b27-a90b-455a-93cb-59328ed8fb02",
   "metadata": {
    "collapsed": true,
    "jupyter": {
     "outputs_hidden": true
    },
    "tags": []
   },
   "outputs": [
    {
     "data": {
      "image/png": "[encoded data removed]",
      "text/plain": [
       "<Figure size 640x480 with 1 Axes>"
      ]
     },
     "metadata": {},
     "output_type": "display_data"
    }
   ],
   "source": [
    "# plot_many('accuracy', SAVED_MODEL_BEST_ACCURACY_RESULTS)"
   ]
  },
  {
   "cell_type": "code",
   "execution_count": 37,
   "id": "40a59931-66c2-4806-a777-e4bfee1cad8f",
   "metadata": {
    "tags": []
   },
   "outputs": [
    {
     "name": "stdout",
     "output_type": "stream",
     "text": [
      "sorted list of max  epochs' values for accuracy   {0: 0.04847396910190582}\n",
      "sorted list of max  epochs' values for val_accuracy   {0: 0.012711863964796066}\n"
     ]
    },
    {
     "data": {
      "image/png": "[encoded data removed]",
      "text/plain": [
       "<Figure size 640x480 with 2 Axes>"
      ]
     },
     "metadata": {},
     "output_type": "display_data"
    }
   ],
   "source": [
    "if trained_model:\n",
    "    print(\"sorted list of max  epochs' values for accuracy  \", show_best_res(SAVED_MODEL_BEST_ACCURACY_RESULTS2))\n",
    "    print(\"sorted list of max  epochs' values for val_accuracy  \", show_best_res(SAVED_MODEL_BEST_VAL_ACCURACY_RESULTS2))\n",
    "    plot(history.history['accuracy'], history.history['loss'], history.history['val_accuracy'], history.history['val_loss'])\n",
    "    # save_lists()"
   ]
  },
  {
   "cell_type": "markdown",
   "id": "24a8f3f1-649e-452d-922b-fa70c8ce7d92",
   "metadata": {},
   "source": [
    "predict"
   ]
  },
  {
   "cell_type": "code",
   "execution_count": 26,
   "id": "efc123d2-9d89-44f2-989e-5d4c4d4bedc1",
   "metadata": {
    "collapsed": true,
    "jupyter": {
     "outputs_hidden": true
    },
    "tags": []
   },
   "outputs": [
    {
     "name": "stdout",
     "output_type": "stream",
     "text": [
      "Model: \"sequential_3\"\n",
      "_________________________________________________________________\n",
      " Layer (type)                Output Shape              Param #   \n",
      "=================================================================\n",
      " conv2d_8 (Conv2D)           (None, 50, 180, 32)       320       \n",
      "                                                                 \n",
      " max_pooling2d_8 (MaxPooling  (None, 25, 90, 32)       0         \n",
      " 2D)                                                             \n",
      "                                                                 \n",
      " batch_normalization_8 (Batc  (None, 25, 90, 32)       128       \n",
      " hNormalization)                                                 \n",
      "                                                                 \n",
      " conv2d_9 (Conv2D)           (None, 25, 90, 64)        18496     \n",
      "                                                                 \n",
      " max_pooling2d_9 (MaxPooling  (None, 12, 45, 64)       0         \n",
      " 2D)                                                             \n",
      "                                                                 \n",
      " batch_normalization_9 (Batc  (None, 12, 45, 64)       256       \n",
      " hNormalization)                                                 \n",
      "                                                                 \n",
      " conv2d_10 (Conv2D)          (None, 12, 45, 96)        55392     \n",
      "                                                                 \n",
      " max_pooling2d_10 (MaxPoolin  (None, 6, 22, 96)        0         \n",
      " g2D)                                                            \n",
      "                                                                 \n",
      " batch_normalization_10 (Bat  (None, 6, 22, 96)        384       \n",
      " chNormalization)                                                \n",
      "                                                                 \n",
      " conv2d_11 (Conv2D)          (None, 6, 22, 128)        110720    \n",
      "                                                                 \n",
      " max_pooling2d_11 (MaxPoolin  (None, 3, 11, 128)       0         \n",
      " g2D)                                                            \n",
      "                                                                 \n",
      " batch_normalization_11 (Bat  (None, 3, 11, 128)       512       \n",
      " chNormalization)                                                \n",
      "                                                                 \n",
      " flatten_2 (Flatten)         (None, 4224)              0         \n",
      "                                                                 \n",
      " dense_4 (Dense)             (None, 512)               2163200   \n",
      "                                                                 \n",
      " dense_6 (Dense)             (None, 1)                 513       \n",
      "                                                                 \n",
      "=================================================================\n",
      "Total params: 2,349,921\n",
      "Trainable params: 2,349,281\n",
      "Non-trainable params: 640\n",
      "_________________________________________________________________\n"
     ]
    }
   ],
   "source": [
    "predict_model = Sequential()\n",
    "for layer in trained_model.layers[:-1]:\n",
    "    predict_model.add(layer)\n",
    "predict_model.add(Dense(units=1, activation=None))\n",
    "predict_model.compile(optimizer='adam', loss='mse', metrics=['accuracy'])\n",
    "predict_model.summary()\n",
    "\n",
    "\n",
    "predict_model.load_weights('weights.hdf5', skip_mismatch=True, by_name=True)\n",
    "\n",
    "# # Load weights and biases from model manually\n",
    "# for i in range(len(predict_model.layers) - 1):\n",
    "#     predict_model.layers[i].set_weights(model.layers[i].get_weights())\n"
   ]
  },
  {
   "cell_type": "code",
   "execution_count": 27,
   "id": "66e0dd9f-d192-4a8a-83a3-a97d19effe0a",
   "metadata": {
    "collapsed": true,
    "jupyter": {
     "outputs_hidden": true
    },
    "tags": []
   },
   "outputs": [
    {
     "ename": "ValueError",
     "evalue": "in user code:\n\n    File \"/opt/conda/lib/python3.10/site-packages/keras/engine/training.py\", line 2169, in predict_function  *\n        return step_function(self, iterator)\n    File \"/opt/conda/lib/python3.10/site-packages/keras/engine/training.py\", line 2155, in step_function  **\n        outputs = model.distribute_strategy.run(run_step, args=(data,))\n    File \"/opt/conda/lib/python3.10/site-packages/keras/engine/training.py\", line 2143, in run_step  **\n        outputs = model.predict_step(data)\n    File \"/opt/conda/lib/python3.10/site-packages/keras/engine/training.py\", line 2111, in predict_step\n        return self(x, training=False)\n    File \"/opt/conda/lib/python3.10/site-packages/keras/utils/traceback_utils.py\", line 70, in error_handler\n        raise e.with_traceback(filtered_tb) from None\n    File \"/opt/conda/lib/python3.10/site-packages/keras/engine/input_spec.py\", line 298, in assert_input_compatibility\n        raise ValueError(\n\n    ValueError: Input 0 of layer \"sequential_3\" is incompatible with the layer: expected shape=(None, 50, 180, 1), found shape=(None, 64, 64, 1)\n",
     "output_type": "error",
     "traceback": [
      "\u001b[0;31m---------------------------------------------------------------------------\u001b[0m",
      "\u001b[0;31mValueError\u001b[0m                                Traceback (most recent call last)",
      "Cell \u001b[0;32mIn[27], line 15\u001b[0m\n\u001b[1;32m     12\u001b[0m     threshold \u001b[38;5;241m=\u001b[39m \u001b[38;5;241m0.018614814\u001b[39m   \u001b[38;5;66;03m# try logistic regression or support vector machine\u001b[39;00m\n\u001b[1;32m     13\u001b[0m     \u001b[38;5;28;01mreturn\u001b[39;00m  distance \u001b[38;5;241m<\u001b[39m threshold, distance\n\u001b[0;32m---> 15\u001b[0m \u001b[43mpredict\u001b[49m\u001b[43m(\u001b[49m\u001b[43mpredict_model\u001b[49m\u001b[43m,\u001b[49m\u001b[43m \u001b[49m\u001b[38;5;124;43m'\u001b[39;49m\u001b[38;5;124;43m/home/jovyan/12.jpg\u001b[39;49m\u001b[38;5;124;43m'\u001b[39;49m\u001b[43m,\u001b[49m\u001b[43m \u001b[49m\u001b[38;5;124;43m'\u001b[39;49m\u001b[38;5;124;43m/home/jovyan/22.jpg\u001b[39;49m\u001b[38;5;124;43m'\u001b[39;49m\u001b[43m)\u001b[49m\n",
      "Cell \u001b[0;32mIn[27], line 8\u001b[0m, in \u001b[0;36mpredict\u001b[0;34m(model, known_data_path, unknown_data_path)\u001b[0m\n\u001b[1;32m      5\u001b[0m known_data \u001b[38;5;241m=\u001b[39m get_image_and_transform(known_data_path)\n\u001b[1;32m      6\u001b[0m unknown_data \u001b[38;5;241m=\u001b[39m get_image_and_transform(unknown_data_path)\n\u001b[0;32m----> 8\u001b[0m known_data \u001b[38;5;241m=\u001b[39m \u001b[43mmodel\u001b[49m\u001b[38;5;241;43m.\u001b[39;49m\u001b[43mpredict\u001b[49m\u001b[43m(\u001b[49m\u001b[43mknown_data\u001b[49m\u001b[43m)\u001b[49m\n\u001b[1;32m      9\u001b[0m unknown_data \u001b[38;5;241m=\u001b[39m model\u001b[38;5;241m.\u001b[39mpredict(unknown_data)\n\u001b[1;32m     10\u001b[0m distance \u001b[38;5;241m=\u001b[39m distance_metric(unknown_data, known_data)\n",
      "File \u001b[0;32m/opt/conda/lib/python3.10/site-packages/keras/utils/traceback_utils.py:70\u001b[0m, in \u001b[0;36mfilter_traceback.<locals>.error_handler\u001b[0;34m(*args, **kwargs)\u001b[0m\n\u001b[1;32m     67\u001b[0m     filtered_tb \u001b[38;5;241m=\u001b[39m _process_traceback_frames(e\u001b[38;5;241m.\u001b[39m__traceback__)\n\u001b[1;32m     68\u001b[0m     \u001b[38;5;66;03m# To get the full stack trace, call:\u001b[39;00m\n\u001b[1;32m     69\u001b[0m     \u001b[38;5;66;03m# `tf.debugging.disable_traceback_filtering()`\u001b[39;00m\n\u001b[0;32m---> 70\u001b[0m     \u001b[38;5;28;01mraise\u001b[39;00m e\u001b[38;5;241m.\u001b[39mwith_traceback(filtered_tb) \u001b[38;5;28;01mfrom\u001b[39;00m \u001b[38;5;28mNone\u001b[39m\n\u001b[1;32m     71\u001b[0m \u001b[38;5;28;01mfinally\u001b[39;00m:\n\u001b[1;32m     72\u001b[0m     \u001b[38;5;28;01mdel\u001b[39;00m filtered_tb\n",
      "File \u001b[0;32m/tmp/__autograph_generated_fileiep_gz9c.py:15\u001b[0m, in \u001b[0;36mouter_factory.<locals>.inner_factory.<locals>.tf__predict_function\u001b[0;34m(iterator)\u001b[0m\n\u001b[1;32m     13\u001b[0m \u001b[38;5;28;01mtry\u001b[39;00m:\n\u001b[1;32m     14\u001b[0m     do_return \u001b[38;5;241m=\u001b[39m \u001b[38;5;28;01mTrue\u001b[39;00m\n\u001b[0;32m---> 15\u001b[0m     retval_ \u001b[38;5;241m=\u001b[39m ag__\u001b[38;5;241m.\u001b[39mconverted_call(ag__\u001b[38;5;241m.\u001b[39mld(step_function), (ag__\u001b[38;5;241m.\u001b[39mld(\u001b[38;5;28mself\u001b[39m), ag__\u001b[38;5;241m.\u001b[39mld(iterator)), \u001b[38;5;28;01mNone\u001b[39;00m, fscope)\n\u001b[1;32m     16\u001b[0m \u001b[38;5;28;01mexcept\u001b[39;00m:\n\u001b[1;32m     17\u001b[0m     do_return \u001b[38;5;241m=\u001b[39m \u001b[38;5;28;01mFalse\u001b[39;00m\n",
      "\u001b[0;31mValueError\u001b[0m: in user code:\n\n    File \"/opt/conda/lib/python3.10/site-packages/keras/engine/training.py\", line 2169, in predict_function  *\n        return step_function(self, iterator)\n    File \"/opt/conda/lib/python3.10/site-packages/keras/engine/training.py\", line 2155, in step_function  **\n        outputs = model.distribute_strategy.run(run_step, args=(data,))\n    File \"/opt/conda/lib/python3.10/site-packages/keras/engine/training.py\", line 2143, in run_step  **\n        outputs = model.predict_step(data)\n    File \"/opt/conda/lib/python3.10/site-packages/keras/engine/training.py\", line 2111, in predict_step\n        return self(x, training=False)\n    File \"/opt/conda/lib/python3.10/site-packages/keras/utils/traceback_utils.py\", line 70, in error_handler\n        raise e.with_traceback(filtered_tb) from None\n    File \"/opt/conda/lib/python3.10/site-packages/keras/engine/input_spec.py\", line 298, in assert_input_compatibility\n        raise ValueError(\n\n    ValueError: Input 0 of layer \"sequential_3\" is incompatible with the layer: expected shape=(None, 50, 180, 1), found shape=(None, 64, 64, 1)\n"
     ]
    }
   ],
   "source": [
    "def distance_metric(x1, x2):\n",
    "    return tf.sqrt(tf.reduce_sum(tf.square(x1 - x2), axis=1))\n",
    "\n",
    "def predict(model, known_data_path, unknown_data_path):\n",
    "    known_data = get_image_and_transform(known_data_path)\n",
    "    unknown_data = get_image_and_transform(unknown_data_path)\n",
    "\n",
    "    known_data = model.predict(known_data)\n",
    "    unknown_data = model.predict(unknown_data)\n",
    "    distance = distance_metric(unknown_data, known_data)\n",
    "\n",
    "    threshold = 0.018614814   # try logistic regression or support vector machine\n",
    "    return  distance < threshold, distance\n",
    "\n",
    "predict(predict_model, '/home/jovyan/12.jpg', '/home/jovyan/22.jpg')"
   ]
  },
  {
   "cell_type": "markdown",
   "id": "c9ed7301-057b-4f6a-9569-c220b9e72a18",
   "metadata": {
    "tags": []
   },
   "source": [
    "plot prediction"
   ]
  },
  {
   "cell_type": "code",
   "execution_count": null,
   "id": "ba2b9c60-bc0c-4586-8fc2-4eb86d972c87",
   "metadata": {
    "tags": []
   },
   "outputs": [],
   "source": [
    "classes, examples1 = get_examples_and_classes(test_folder,1)\n",
    "classes, examples2 = get_examples_and_classes(test_folder,2)\n",
    "y_true = [i for i in range(len(classes))]\n",
    "y_predict_tensors = []\n",
    "y_predict_labels = []\n",
    "\n",
    "for i in range(len(classes)):  # try build histogram\n",
    "    predict_label, predict_tensor = predict(predict_model, examples1[i], examples2[i])\n",
    "    y_predict_tensors.append(predict_tensor)\n",
    "    y_predict_labels.append(predict_label)    "
   ]
  },
  {
   "cell_type": "code",
   "execution_count": null,
   "id": "d292a756-9bbe-4a08-8a58-9d30b170abb0",
   "metadata": {
    "tags": []
   },
   "outputs": [],
   "source": [
    "print(classification_report(y_true, y_predict_labels, target_names=classes))"
   ]
  },
  {
   "cell_type": "markdown",
   "id": "da71eed0-463d-4c6b-9b8e-baf435aa25ce",
   "metadata": {},
   "source": [
    "choose best threshold"
   ]
  },
  {
   "cell_type": "code",
   "execution_count": null,
   "id": "094515cc-bc73-4f5c-8a6b-195dc45eadd9",
   "metadata": {
    "tags": []
   },
   "outputs": [],
   "source": [
    "thresholds = np.linspace(0.0001, 0.5, 1000)\n",
    "\n",
    "# Calculate F1 score for each threshold\n",
    "f1_scores = []\n",
    "for threshold in thresholds:\n",
    "    y_pred = (y_predict_tensors < threshold).astype(int)\n",
    "    f1_scores.append(f1_score(y_true, y_pred, average='micro'))\n",
    "\n",
    "# Choose the threshold that maximizes F1 score\n",
    "best_threshold = thresholds[np.argmax(f1_scores)]\n",
    "best_threshold"
   ]
  }
 ],
 "metadata": {
  "kernelspec": {
   "display_name": "Python 3 (ipykernel)",
   "language": "python",
   "name": "python3"
  },
  "language_info": {
   "codemirror_mode": {
    "name": "ipython",
    "version": 3
   },
   "file_extension": ".py",
   "mimetype": "text/x-python",
   "name": "python",
   "nbconvert_exporter": "python",
   "pygments_lexer": "ipython3",
   "version": "3.10.9"
  },
  "toc-autonumbering": false,
  "toc-showcode": false,
  "toc-showmarkdowntxt": true,
  "toc-showtags": false
 },
 "nbformat": 4,
 "nbformat_minor": 5
}
