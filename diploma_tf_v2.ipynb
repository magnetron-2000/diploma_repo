{
 "cells": [
  {
   "cell_type": "code",
   "execution_count": null,
   "id": "e0247f60-07e2-4d38-b0af-1d715c82a044",
   "metadata": {
    "tags": []
   },
   "outputs": [],
   "source": [
    "import tensorflow as tf\n",
    "from tensorflow.keras.layers import Input, Conv2D, MaxPooling2D, BatchNormalization, Flatten, Dense\n",
    "from tensorflow.keras.models import Model\n",
    "from tensorflow.keras.optimizers import Adam\n",
    "from tensorflow.keras.preprocessing.image import ImageDataGenerator\n",
    "import numpy as np\n",
    "import os\n",
    "from tensorflow.keras import utils\n",
    "import matplotlib.pyplot as plt\n",
    "import random"
   ]
  },
  {
   "cell_type": "code",
   "execution_count": 2,
   "id": "42a01c8a-1edf-48b4-a761-e422fbefcb2a",
   "metadata": {
    "tags": []
   },
   "outputs": [],
   "source": [
    "def plot(accuracy, loss): # return schedule of accuracy and loss\n",
    "    fig, ax1 = plt.subplots()\n",
    "    ax1.set_xlabel('epoch')\n",
    "\n",
    "    ax1.set_ylabel('total loss')\n",
    "    ax1.plot(loss,color='tab:red')\n",
    "    ax1.tick_params(axis='y')\n",
    "\n",
    "    ax2 = ax1.twinx()  \n",
    "    ax2.set_ylabel('accuracy')  \n",
    "    ax2.plot( accuracy, color='tab:blue')\n",
    "    ax2.tick_params(axis='y')\n",
    "    fig.tight_layout()"
   ]
  },
  {
   "cell_type": "code",
   "execution_count": 8,
   "id": "622a595a-65ae-4cc4-bdbb-fc651311a645",
   "metadata": {
    "tags": []
   },
   "outputs": [],
   "source": [
    "def get_image_and_transform(path, dims=False):\n",
    "    data = utils.load_img(path, color_mode='grayscale', target_size=(50, 180))\n",
    "    data = np.array(data)\n",
    "    if dims:\n",
    "        data = np.expand_dims(data, axis=0)\n",
    "    data = data / 255.0\n",
    "    return data"
   ]
  },
  {
   "cell_type": "code",
   "execution_count": 9,
   "id": "364a5d57-f3d6-490a-9295-7f376845e645",
   "metadata": {
    "tags": []
   },
   "outputs": [],
   "source": [
    "def build_dataset(dataset_dir, label): # build 2 list with array for training and 1 list with labels\n",
    "    x_train1, x_train2, y_train = [], [], []\n",
    "    classes = sorted(os.listdir(dataset_dir))\n",
    "    for i in range(len(classes)):\n",
    "        class_dir = os.path.join(dataset_dir, classes[i])\n",
    "        images = os.listdir(class_dir)\n",
    "        if len(images) == 1:\n",
    "            continue\n",
    "        if len(images) % 2 != 0:\n",
    "            del images[len(images) - 1]\n",
    "        for image in range(len(images)):\n",
    "            full_image_path = os.path.join(class_dir, images[image])\n",
    "            if 'ipynb_checkpoints' in full_image_path:\n",
    "                continue\n",
    "            if image < len(images)//2:\n",
    "                y_train.append(label)\n",
    "                x_train1.append(get_image_and_transform(full_image_path))\n",
    "            else:\n",
    "                x_train2.append(get_image_and_transform(full_image_path))\n",
    "    return x_train1, x_train2, y_train"
   ]
  },
  {
   "cell_type": "code",
   "execution_count": 10,
   "id": "bda59e47-62c8-4ae9-b8ba-ba2967acbd42",
   "metadata": {
    "tags": []
   },
   "outputs": [],
   "source": [
    "train_data = \"/home/jovyan/dataset2/train\"\n",
    "train_wrong_data = \"/home/jovyan/dataset2/test\" \n",
    "\n",
    "train_data_1, train_data_2, train_labels1 = build_dataset(train_data, 1)\n",
    "train_data_3, train_data_4, train_labels2 = build_dataset(train_wrong_data, 0)\n",
    "\n",
    "random.shuffle(train_data_3)\n",
    "random.shuffle(train_data_4)\n",
    "\n",
    "train_data_1 = train_data_1 + train_data_3\n",
    "train_data_2 = train_data_2 + train_data_4\n",
    "train_labels1 = train_labels1 + train_labels2\n",
    "\n",
    "train_data_1 = np.array(train_data_1)\n",
    "train_data_2 = np.array(train_data_2)\n",
    "train_labels1 = np.array(train_labels1)"
   ]
  },
  {
   "cell_type": "code",
   "execution_count": 11,
   "id": "701b10e5-80a5-4586-9b30-1f59ee47f458",
   "metadata": {
    "collapsed": true,
    "jupyter": {
     "outputs_hidden": true
    },
    "tags": []
   },
   "outputs": [
    {
     "name": "stdout",
     "output_type": "stream",
     "text": [
      "Model: \"model_1\"\n",
      "__________________________________________________________________________________________________\n",
      " Layer (type)                   Output Shape         Param #     Connected to                     \n",
      "==================================================================================================\n",
      " input_3 (InputLayer)           [(None, 50, 180, 1)  0           []                               \n",
      "                                ]                                                                 \n",
      "                                                                                                  \n",
      " input_4 (InputLayer)           [(None, 50, 180, 1)  0           []                               \n",
      "                                ]                                                                 \n",
      "                                                                                                  \n",
      " conv2d_4 (Conv2D)              (None, 50, 180, 32)  320         ['input_3[0][0]',                \n",
      "                                                                  'input_4[0][0]']                \n",
      "                                                                                                  \n",
      " max_pooling2d_4 (MaxPooling2D)  (None, 25, 90, 32)  0           ['conv2d_4[0][0]',               \n",
      "                                                                  'conv2d_4[1][0]']               \n",
      "                                                                                                  \n",
      " batch_normalization_4 (BatchNo  (None, 25, 90, 32)  128         ['max_pooling2d_4[0][0]',        \n",
      " rmalization)                                                     'max_pooling2d_4[1][0]']        \n",
      "                                                                                                  \n",
      " conv2d_5 (Conv2D)              (None, 25, 90, 32)   9248        ['batch_normalization_4[0][0]',  \n",
      "                                                                  'batch_normalization_4[1][0]']  \n",
      "                                                                                                  \n",
      " max_pooling2d_5 (MaxPooling2D)  (None, 12, 45, 32)  0           ['conv2d_5[0][0]',               \n",
      "                                                                  'conv2d_5[1][0]']               \n",
      "                                                                                                  \n",
      " batch_normalization_5 (BatchNo  (None, 12, 45, 32)  128         ['max_pooling2d_5[0][0]',        \n",
      " rmalization)                                                     'max_pooling2d_5[1][0]']        \n",
      "                                                                                                  \n",
      " conv2d_6 (Conv2D)              (None, 12, 45, 32)   9248        ['batch_normalization_5[0][0]',  \n",
      "                                                                  'batch_normalization_5[1][0]']  \n",
      "                                                                                                  \n",
      " max_pooling2d_6 (MaxPooling2D)  (None, 6, 22, 32)   0           ['conv2d_6[0][0]',               \n",
      "                                                                  'conv2d_6[1][0]']               \n",
      "                                                                                                  \n",
      " batch_normalization_6 (BatchNo  (None, 6, 22, 32)   128         ['max_pooling2d_6[0][0]',        \n",
      " rmalization)                                                     'max_pooling2d_6[1][0]']        \n",
      "                                                                                                  \n",
      " conv2d_7 (Conv2D)              (None, 6, 22, 64)    18496       ['batch_normalization_6[0][0]',  \n",
      "                                                                  'batch_normalization_6[1][0]']  \n",
      "                                                                                                  \n",
      " max_pooling2d_7 (MaxPooling2D)  (None, 3, 11, 64)   0           ['conv2d_7[0][0]',               \n",
      "                                                                  'conv2d_7[1][0]']               \n",
      "                                                                                                  \n",
      " batch_normalization_7 (BatchNo  (None, 3, 11, 64)   256         ['max_pooling2d_7[0][0]',        \n",
      " rmalization)                                                     'max_pooling2d_7[1][0]']        \n",
      "                                                                                                  \n",
      " flatten_1 (Flatten)            (None, 2112)         0           ['batch_normalization_7[0][0]',  \n",
      "                                                                  'batch_normalization_7[1][0]']  \n",
      "                                                                                                  \n",
      " concatenate_1 (Concatenate)    (None, 4224)         0           ['flatten_1[0][0]',              \n",
      "                                                                  'flatten_1[1][0]']              \n",
      "                                                                                                  \n",
      " dense_2 (Dense)                (None, 512)          2163200     ['concatenate_1[0][0]']          \n",
      "                                                                                                  \n",
      " dense_3 (Dense)                (None, 1)            513         ['dense_2[0][0]']                \n",
      "                                                                                                  \n",
      "==================================================================================================\n",
      "Total params: 2,201,665\n",
      "Trainable params: 2,201,345\n",
      "Non-trainable params: 320\n",
      "__________________________________________________________________________________________________\n"
     ]
    }
   ],
   "source": [
    "def siamese_model(in_1=32, in_2=32, in_3=32, in_4=64):\n",
    "    input_shape = (50, 180, 1)\n",
    "    \n",
    "    input_1 = Input(shape=input_shape)\n",
    "    input_2 = Input(shape=input_shape)\n",
    "    \n",
    "    shared_layers = [\n",
    "        Conv2D(filters=in_1, kernel_size=3, strides=1, padding='same', activation='relu'),\n",
    "        MaxPooling2D(pool_size=(2, 2)),\n",
    "        BatchNormalization(),\n",
    "        Conv2D(filters=in_2, kernel_size=3, strides=1, padding='same', activation='relu'),\n",
    "        MaxPooling2D(pool_size=(2, 2)),\n",
    "        BatchNormalization(),\n",
    "        Conv2D(filters=in_3, kernel_size=3, strides=1, padding='same', activation='relu'),\n",
    "        MaxPooling2D(pool_size=(2, 2)),\n",
    "        BatchNormalization(),\n",
    "        Conv2D(filters=in_4, kernel_size=3, strides=1, padding='same', activation='relu'),\n",
    "        MaxPooling2D(pool_size=(2, 2)),\n",
    "        BatchNormalization(),\n",
    "        Flatten()\n",
    "    ]\n",
    "    \n",
    "    fc_layers = [\n",
    "        Dense(units=512, activation='tanh'),\n",
    "        Dense(units=1, activation='sigmoid')\n",
    "    ]\n",
    "    \n",
    "    output_1 = input_1\n",
    "    output_2 = input_2\n",
    "    for layer in shared_layers:\n",
    "        output_1 = layer(output_1)\n",
    "        output_2 = layer(output_2)\n",
    "    \n",
    "    concatenated = tf.keras.layers.Concatenate()([output_1, output_2])\n",
    "    for layer in fc_layers:\n",
    "        output = layer(concatenated)\n",
    "    \n",
    "    siamese_model = Model(inputs=[input_1, input_2], outputs=output)\n",
    "    siamese_model.compile(optimizer=Adam(), loss='binary_crossentropy', metrics=['accuracy'])\n",
    "    \n",
    "    return siamese_model\n",
    "model = siamese_model()\n",
    "model.summary()"
   ]
  },
  {
   "cell_type": "code",
   "execution_count": null,
   "id": "60ee9be6-1173-4ff4-bb8d-bfd55665b6d9",
   "metadata": {
    "tags": []
   },
   "outputs": [],
   "source": [
    "history = model.fit([train_data_1, train_data_2], train_labels1, epochs=10)"
   ]
  },
  {
   "cell_type": "code",
   "execution_count": null,
   "id": "41a803eb-f957-42bd-ad0c-10a86a509372",
   "metadata": {
    "tags": []
   },
   "outputs": [],
   "source": [
    "plot(history.history['accuracy'], history.history['loss'])"
   ]
  },
  {
   "cell_type": "code",
   "execution_count": 17,
   "id": "0ae4ef5c-ee00-4b7f-9c03-571832f72131",
   "metadata": {
    "tags": []
   },
   "outputs": [
    {
     "name": "stdout",
     "output_type": "stream",
     "text": [
      "1/1 [==============================] - 0s 21ms/step\n"
     ]
    },
    {
     "data": {
      "text/plain": [
       "(array([[0.8336525]], dtype=float32), True)"
      ]
     },
     "execution_count": 17,
     "metadata": {},
     "output_type": "execute_result"
    }
   ],
   "source": [
    "def predict_siamese_model(siamese_model, data_1, data_2):\n",
    "    predictions = siamese_model.predict([data_1, data_2])\n",
    "    return predictions, float(predictions) > 0.5\n",
    "\n",
    "img1 = get_image_and_transform('/home/jovyan/21.jpg', True)\n",
    "img2 = get_image_and_transform('/home/jovyan/22.jpg', True)\n",
    "\n",
    "predict_siamese_model(model,img1, img2)"
   ]
  }
 ],
 "metadata": {
  "kernelspec": {
   "display_name": "Python 3 (ipykernel)",
   "language": "python",
   "name": "python3"
  },
  "language_info": {
   "codemirror_mode": {
    "name": "ipython",
    "version": 3
   },
   "file_extension": ".py",
   "mimetype": "text/x-python",
   "name": "python",
   "nbconvert_exporter": "python",
   "pygments_lexer": "ipython3",
   "version": "3.10.9"
  }
 },
 "nbformat": 4,
 "nbformat_minor": 5
}
