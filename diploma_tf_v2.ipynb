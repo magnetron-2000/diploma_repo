{
 "cells": [
  {
   "cell_type": "markdown",
   "id": "c6d4c3c4-b0f3-444e-ba12-7cc9675a7972",
   "metadata": {},
   "source": [
    "import libraries"
   ]
  },
  {
   "cell_type": "code",
   "execution_count": null,
   "id": "e0247f60-07e2-4d38-b0af-1d715c82a044",
   "metadata": {
    "tags": []
   },
   "outputs": [],
   "source": [
    "import tensorflow as tf\n",
    "from tensorflow.keras.layers import Input, Conv2D, MaxPooling2D, BatchNormalization, Flatten, Dense, Dropout\n",
    "from tensorflow.keras.models import Model\n",
    "from tensorflow.keras.optimizers import Adam\n",
    "from tensorflow.keras.preprocessing.image import ImageDataGenerator\n",
    "import numpy as np\n",
    "import os\n",
    "from tensorflow.keras import utils\n",
    "import matplotlib.pyplot as plt\n",
    "import tensorflow.keras.backend as K\n",
    "import random"
   ]
  },
  {
   "cell_type": "markdown",
   "id": "cb420217-d240-4c0a-bb13-8c72d6222fb3",
   "metadata": {
    "tags": []
   },
   "source": [
    "functions"
   ]
  },
  {
   "cell_type": "code",
   "execution_count": 13,
   "id": "42a01c8a-1edf-48b4-a761-e422fbefcb2a",
   "metadata": {
    "tags": []
   },
   "outputs": [],
   "source": [
    "def plot(accuracy, loss, val_accuracy, val_loss): # return schedule of accuracy and loss\n",
    "    fig, ax1 = plt.subplots()\n",
    "    ax1.set_xlabel('epoch')\n",
    "\n",
    "    ax1.set_ylabel('total loss')\n",
    "    ax1.plot(loss,color='tab:red')\n",
    "    ax1.plot( val_loss, color='tab:brown')\n",
    "    ax1.tick_params(axis='y')\n",
    "\n",
    "    ax2 = ax1.twinx()  \n",
    "    ax2.set_ylabel('accuracy')  \n",
    "    ax2.plot( accuracy, color='tab:blue')\n",
    "    ax2.plot( val_accuracy, color='tab:green')\n",
    "    ax2.tick_params(axis='y')\n",
    "    fig.tight_layout()"
   ]
  },
  {
   "cell_type": "code",
   "execution_count": 16,
   "id": "622a595a-65ae-4cc4-bdbb-fc651311a645",
   "metadata": {
    "tags": []
   },
   "outputs": [],
   "source": [
    "def get_image_and_transform(path, dims=False, mode='grayscale'):\n",
    "    \n",
    "    data = utils.load_img(path, color_mode=mode, target_size=(64,64))\n",
    "    data = np.array(data)\n",
    "    if dims:\n",
    "        data = np.expand_dims(data, axis=0)\n",
    "    data = data / 255.0\n",
    "    return data"
   ]
  },
  {
   "cell_type": "code",
   "execution_count": 3,
   "id": "f73280ea-255f-4280-9ffd-447541bc7553",
   "metadata": {
    "tags": []
   },
   "outputs": [],
   "source": [
    "def contrastive_loss(y, preds, margin=0.01):\n",
    "\t# explicitly cast the true class label data type to the predicted\n",
    "\t# class label data type (otherwise we run the risk of having two\n",
    "\t# separate data types, causing TensorFlow to error out)\n",
    "\ty = tf.cast(y, preds.dtype)\n",
    "\t# calculate the contrastive loss between the true labels and the predicted labels\n",
    "\tsquaredPreds = K.square(preds)\n",
    "\tsquaredMargin = K.square(K.maximum(margin - preds, 0))\n",
    "\tloss = K.mean(y * squaredPreds + (1 - y) * squaredMargin)\n",
    "\t# return the computed contrastive loss to the calling function\n",
    "\treturn loss"
   ]
  },
  {
   "cell_type": "markdown",
   "id": "f5b5e07f-5de8-45ac-859b-1bbe2ed2abce",
   "metadata": {},
   "source": [
    "![F](https://b2633864.smushcdn.com/2633864/wp-content/uploads/2021/01/contrastive_loss_keras_constrastive_loss_function_updated.png?lossy=1&strip=1&webp=1)"
   ]
  },
  {
   "cell_type": "code",
   "execution_count": 4,
   "id": "364a5d57-f3d6-490a-9295-7f376845e645",
   "metadata": {
    "tags": []
   },
   "outputs": [],
   "source": [
    "def build_dataset(dataset_dir, label, dims=False, mode='grayscale'): # build 2 list with array for training and 1 list with labels\n",
    "    x_train1, x_train2, y_train = [], [], []\n",
    "    classes = sorted(os.listdir(dataset_dir))\n",
    "    for i in range(len(classes)):\n",
    "        class_dir = os.path.join(dataset_dir, classes[i])\n",
    "        images = os.listdir(class_dir)\n",
    "        if len(images) == 1:\n",
    "            continue\n",
    "        if len(images) % 2 != 0:\n",
    "            del images[len(images) - 1]\n",
    "        for image in range(len(images)):\n",
    "            full_image_path = os.path.join(class_dir, images[image])\n",
    "            if 'ipynb_checkpoints' in full_image_path:\n",
    "                continue\n",
    "            if image < len(images)//2:\n",
    "                y_train.append(label)\n",
    "                x_train1.append(get_image_and_transform(full_image_path, dims, mode))\n",
    "            else:\n",
    "                x_train2.append(get_image_and_transform(full_image_path, dims, mode))\n",
    "    return x_train1, x_train2, y_train"
   ]
  },
  {
   "cell_type": "markdown",
   "id": "d94e60a0-880b-41ef-ab0f-5e04604f9b98",
   "metadata": {},
   "source": [
    "dataset"
   ]
  },
  {
   "cell_type": "code",
   "execution_count": 6,
   "id": "bda59e47-62c8-4ae9-b8ba-ba2967acbd42",
   "metadata": {
    "tags": []
   },
   "outputs": [],
   "source": [
    "# train_data = \"/home/jovyan/dataset1/dataset2/train\"\n",
    "# train_wrong_data = \"/home/jovyan/dataset1/dataset2/test\"\n",
    "\n",
    "# train_data_1, train_data_2, train_labels1 = build_dataset(train_data, 1)\n",
    "# # train_data_3, train_data_4, train_labels2 = build_dataset(train_wrong_data, 0)\n",
    "\n",
    "# print(len(train_data_1), len(train_data_2), len(train_labels1))\n",
    "# # print(len(train_data_3), len(train_data_4), len(train_labels2))\n",
    "# # random.shuffle(train_data_3)\n",
    "# # random.shuffle(train_data_4)\n",
    "\n",
    "# # train_data_1 = train_data_1 + train_data_3\n",
    "# # train_data_2 = train_data_2 + train_data_4\n",
    "# # train_labels1 = train_labels1 + train_labels2\n",
    "\n",
    "# train_data_1 = np.array(train_data_1)\n",
    "# train_data_2 = np.array(train_data_2)\n",
    "# train_labels1 = np.array(train_labels1)\n",
    "\n",
    "# print(\n",
    "#     len(train_data_1),\n",
    "#     len(train_data_2),\n",
    "#     len(train_labels1)\n",
    "#     )"
   ]
  },
  {
   "cell_type": "code",
   "execution_count": 4,
   "id": "b880d093-9656-4ea3-894b-54fcd2d019c0",
   "metadata": {},
   "outputs": [],
   "source": [
    "def build_siamese_dataset(train_folder, mode='grayscale'):\n",
    "    train_datagen = ImageDataGenerator(rescale=1./255) \n",
    "    training_set = train_datagen.flow_from_directory(train_folder,\n",
    "                                                     target_size=(64,64),\n",
    "                                                     batch_size=32,\n",
    "                                                     class_mode='categorical',\n",
    "                                                     color_mode=mode,\n",
    "                                                     shuffle=True,\n",
    "                                                     seed=42,\n",
    "                                                     subset='training')\n",
    "    x_train1, x_train2 = [], []\n",
    "    for i in range(len(training_set)):\n",
    "        images, labels = training_set[i]\n",
    "        # images, labels = images[len(images)//2:], labels[len(labels)//2:]\n",
    "        num = len(images) -1 if len(images) % 2 != 0 else len(images)\n",
    "        for o in range(num):\n",
    "            if o % 2 == 0:\n",
    "                x_train1.append(images[o])\n",
    "            else:\n",
    "                x_train2.append(images[o])\n",
    "    return x_train1, x_train2\n"
   ]
  },
  {
   "cell_type": "code",
   "execution_count": 10,
   "id": "e60076c0-4f67-4930-9f65-ab4994136481",
   "metadata": {
    "tags": []
   },
   "outputs": [
    {
     "name": "stdout",
     "output_type": "stream",
     "text": [
      "Found 5684 images belonging to 164 classes.\n"
     ]
    }
   ],
   "source": [
    "x_train1, x_train2 = build_siamese_dataset(\"/home/jovyan/dataset1/dataset2/train\")#, 'rgb')\n",
    "x_train2 = x_train2[:len(x_train2)+1] + x_train2[:len(x_train2):-1]\n",
    "train_labels1 = [1] * (len(x_train2)//2) + [0] * (len(x_train2)//2) + [0]\n",
    "x_train1 = np.array(x_train1)\n",
    "x_train2 = np.array(x_train2)\n",
    "train_labels1 = np.array(train_labels1)\n"
   ]
  },
  {
   "cell_type": "code",
   "execution_count": 8,
   "id": "b1420cb6-17f1-4c8b-87aa-782ec35da9aa",
   "metadata": {},
   "outputs": [
    {
     "name": "stdout",
     "output_type": "stream",
     "text": [
      "Found 5684 images belonging to 164 classes.\n"
     ]
    }
   ],
   "source": [
    "x_test1, x_test2 = build_siamese_dataset(\"/home/jovyan/dataset1/dataset2/test\")#, 'rgb')\n",
    "x_test2 = x_test2[:len(x_test2)+1] + x_test2[:len(x_test2):-1]\n",
    "test_labels1 = [1] * (len(x_test2)//2) + [0] * (len(x_test2)//2) + [0]\n",
    "\n",
    "x_test1 = np.array(x_test1)\n",
    "x_test2 = np.array(x_test2)\n",
    "test_labels1 = np.array(test_labels1)"
   ]
  },
  {
   "cell_type": "markdown",
   "id": "82522748-777e-4b68-88a2-1db3e9787202",
   "metadata": {},
   "source": [
    "# first implementation of siamese CNN"
   ]
  },
  {
   "cell_type": "code",
   "execution_count": null,
   "id": "701b10e5-80a5-4586-9b30-1f59ee47f458",
   "metadata": {
    "tags": []
   },
   "outputs": [],
   "source": [
    "def siamese_model(in_1=32, in_2=32, in_3=32, in_4=64):\n",
    "    input_shape = (64,64, 1)\n",
    "    \n",
    "    input_1 = Input(shape=input_shape)\n",
    "    input_2 = Input(shape=input_shape)\n",
    "    \n",
    "    shared_layers = [\n",
    "        Conv2D(filters=in_1, kernel_size=3, strides=1, padding='same', activation='relu'),\n",
    "        MaxPooling2D(pool_size=(2, 2)),\n",
    "        BatchNormalization(),\n",
    "        Conv2D(filters=in_2, kernel_size=3, strides=1, padding='same', activation='relu'),\n",
    "        MaxPooling2D(pool_size=(2, 2)),\n",
    "        BatchNormalization(),\n",
    "        Conv2D(filters=in_3, kernel_size=3, strides=1, padding='same', activation='relu'),\n",
    "        MaxPooling2D(pool_size=(2, 2)),\n",
    "        BatchNormalization(),\n",
    "        Conv2D(filters=in_4, kernel_size=3, strides=1, padding='same', activation='relu'),\n",
    "        MaxPooling2D(pool_size=(2, 2)),\n",
    "        BatchNormalization(),\n",
    "        Flatten(),\n",
    "        Dropout(0.1)\n",
    "    ]\n",
    "    \n",
    "    fc_layers = [\n",
    "        Dense(units=512, activation='tanh'),\n",
    "        Dense(units=1, activation='sigmoid')\n",
    "    ]\n",
    "    \n",
    "    output_1 = input_1\n",
    "    output_2 = input_2\n",
    "    for layer in shared_layers:\n",
    "        output_1 = layer(output_1)\n",
    "        output_2 = layer(output_2)\n",
    "    \n",
    "    concatenated = tf.keras.layers.Concatenate()([output_1, output_2])\n",
    "    for layer in fc_layers:\n",
    "        concatenated = layer(concatenated)\n",
    "    \n",
    "    siamese_model = Model(inputs=[input_1, input_2], outputs=concatenated)\n",
    "    siamese_model.compile(optimizer=Adam(), loss=contrastive_loss, metrics=['accuracy'])\n",
    "    \n",
    "    return siamese_model\n",
    "model1 = siamese_model()\n",
    "model1.summary()"
   ]
  },
  {
   "cell_type": "code",
   "execution_count": null,
   "id": "60ee9be6-1173-4ff4-bb8d-bfd55665b6d9",
   "metadata": {
    "tags": []
   },
   "outputs": [],
   "source": [
    "history = model1.fit([x_train1, x_train2],\n",
    "                     train_labels1,\n",
    "                     steps_per_epoch = 180,\n",
    "                     epochs=15,\n",
    "                     validation_data = ([x_test1,x_test2], test_labels1),\n",
    "                     validation_steps=60,\n",
    "                     shuffle=True)"
   ]
  },
  {
   "cell_type": "code",
   "execution_count": null,
   "id": "41a803eb-f957-42bd-ad0c-10a86a509372",
   "metadata": {
    "tags": []
   },
   "outputs": [],
   "source": [
    "plot(history.history['accuracy'], history.history['loss'],history.history['val_accuracy'],history.history['val_loss'])"
   ]
  },
  {
   "cell_type": "code",
   "execution_count": null,
   "id": "0ae4ef5c-ee00-4b7f-9c03-571832f72131",
   "metadata": {
    "tags": []
   },
   "outputs": [],
   "source": [
    "def predict_siamese_model(siamese_model, data_1, data_2):\n",
    "    predictions = siamese_model.predict([data_1, data_2])\n",
    "    return predictions, float(predictions) > 0.5\n",
    "\n",
    "img1 = get_image_and_transform('/home/jovyan/21.jpg', True)\n",
    "img2 = get_image_and_transform('/home/jovyan/11.jpg', True)\n",
    "\n",
    "predict_siamese_model(model1,img1, img2)"
   ]
  },
  {
   "cell_type": "markdown",
   "id": "299c955f-c7eb-47c2-8b87-a7620227ada5",
   "metadata": {},
   "source": [
    "# second implementation of siamese CNN\n"
   ]
  },
  {
   "cell_type": "code",
   "execution_count": null,
   "id": "83341d5b-4e7a-4d9b-ae2f-d488e42efe85",
   "metadata": {
    "tags": []
   },
   "outputs": [],
   "source": [
    "train_data = \"/home/jovyan/dataset2/train\"\n",
    "train_wrong_data = \"/home/jovyan/dataset2/test\" \n",
    "\n",
    "train_data_1, train_data_2, train_labels1 = build_dataset(train_data, 1,False, 'rgb')\n",
    "train_data_3, train_data_4, train_labels2 = build_dataset(train_wrong_data, 0,False, 'rgb')\n",
    "\n",
    "random.shuffle(train_data_3)\n",
    "random.shuffle(train_data_4)\n",
    "\n",
    "train_data_1 = train_data_1 + train_data_3\n",
    "train_data_2 = train_data_2 + train_data_4\n",
    "train_labels1 = train_labels1 + train_labels2\n",
    "\n",
    "train_data_1 = np.array(train_data_1)\n",
    "train_data_2 = np.array(train_data_2)\n",
    "train_labels1 = np.array(train_labels1)"
   ]
  },
  {
   "cell_type": "code",
   "execution_count": 6,
   "id": "c4867849-1f4b-47e3-8be3-b7350fed0fb5",
   "metadata": {
    "tags": []
   },
   "outputs": [
    {
     "name": "stdout",
     "output_type": "stream",
     "text": [
      "WARNING:tensorflow:`input_shape` is undefined or non-square, or `rows` is not 224. Weights for input shape (224, 224) will be loaded as the default.\n",
      "Model: \"model\"\n",
      "__________________________________________________________________________________________________\n",
      " Layer (type)                   Output Shape         Param #     Connected to                     \n",
      "==================================================================================================\n",
      " input_1 (InputLayer)           [(None, 64, 64, 3)]  0           []                               \n",
      "                                                                                                  \n",
      " input_2 (InputLayer)           [(None, 64, 64, 3)]  0           []                               \n",
      "                                                                                                  \n",
      " MobilenetV3small (Functional)  (None, 2, 2, 576)    939120      ['input_1[0][0]',                \n",
      "                                                                  'input_2[0][0]']                \n",
      "                                                                                                  \n",
      " flatten (Flatten)              (None, 2304)         0           ['MobilenetV3small[0][0]']       \n",
      "                                                                                                  \n",
      " flatten_1 (Flatten)            (None, 2304)         0           ['MobilenetV3small[1][0]']       \n",
      "                                                                                                  \n",
      " concatenate (Concatenate)      (None, 4608)         0           ['flatten[0][0]',                \n",
      "                                                                  'flatten_1[0][0]']              \n",
      "                                                                                                  \n",
      " dense (Dense)                  (None, 512)          2359808     ['concatenate[0][0]']            \n",
      "                                                                                                  \n",
      " dense_1 (Dense)                (None, 1)            513         ['dense[0][0]']                  \n",
      "                                                                                                  \n",
      "==================================================================================================\n",
      "Total params: 3,299,441\n",
      "Trainable params: 3,287,329\n",
      "Non-trainable params: 12,112\n",
      "__________________________________________________________________________________________________\n"
     ]
    }
   ],
   "source": [
    "def siamese_model2(in_1=32, in_2=32, in_3=32, in_4=64):\n",
    "    input_shape = (64,64, 3)\n",
    "    input_1 = Input(shape=input_shape)\n",
    "    input_2 = Input(shape=input_shape)\n",
    "    \n",
    "    base_model = tf.keras.applications.MobileNetV3Small(weights='imagenet', include_top=False, input_shape=input_shape)\n",
    "    \n",
    "    fc_layers = [\n",
    "        Dense(units=512, activation='tanh'),\n",
    "        Dense(units=1, activation='sigmoid')\n",
    "    ]\n",
    "    \n",
    "    \n",
    "    output_1 = base_model(input_1)\n",
    "    output_2 = base_model(input_2)\n",
    "    \n",
    "    flattened_1 = Flatten()(output_1)\n",
    "    flattened_2 = Flatten()(output_2)\n",
    "    \n",
    "    concatenated = tf.keras.layers.Concatenate()([flattened_1, flattened_2])\n",
    "    for layer in fc_layers:\n",
    "        concatenated = layer(concatenated)\n",
    "    \n",
    "    siamese_model = Model(inputs=[input_1, input_2], outputs=concatenated)\n",
    "    siamese_model.compile(optimizer=Adam(), loss='binary_crossentropy', metrics=['accuracy'])\n",
    "    \n",
    "    return siamese_model\n",
    "\n",
    "model2 = siamese_model2()\n",
    "model2.summary()\n"
   ]
  },
  {
   "cell_type": "code",
   "execution_count": null,
   "id": "5a5ac1f3-0040-4ee7-8827-592d975ea902",
   "metadata": {
    "tags": []
   },
   "outputs": [],
   "source": [
    "history = model2.fit([x_train1, x_train2],\n",
    "                     train_labels1,\n",
    "                     steps_per_epoch = 32,\n",
    "                     epochs=60,\n",
    "                     validation_data = ([x_test1,x_test2], test_labels1),\n",
    "                     validation_steps=60,\n",
    "                     shuffle=True)"
   ]
  },
  {
   "cell_type": "code",
   "execution_count": 14,
   "id": "a2075ac0-1b14-400c-84d6-0ba91064f86d",
   "metadata": {
    "tags": []
   },
   "outputs": [
    {
     "data": {
      "image/png": "[encoded data removed]",
      "text/plain": [
       "<Figure size 640x480 with 2 Axes>"
      ]
     },
     "metadata": {},
     "output_type": "display_data"
    }
   ],
   "source": [
    "plot(history.history['accuracy'], history.history['loss'],history.history['val_accuracy'],history.history['val_loss'])"
   ]
  },
  {
   "cell_type": "code",
   "execution_count": 17,
   "id": "e64cc370-0ff8-41e4-8e36-264f0a15a252",
   "metadata": {
    "tags": []
   },
   "outputs": [
    {
     "name": "stdout",
     "output_type": "stream",
     "text": [
      "1/1 [==============================] - 1s 1s/step\n"
     ]
    },
    {
     "data": {
      "text/plain": [
       "(array([[0.00993314]], dtype=float32), False)"
      ]
     },
     "execution_count": 17,
     "metadata": {},
     "output_type": "execute_result"
    }
   ],
   "source": [
    "def predict_siamese_model(siamese_model, data_1, data_2):\n",
    "    predictions = siamese_model.predict([data_1, data_2])\n",
    "    return predictions, float(predictions) > 0.5\n",
    "\n",
    "img1 = get_image_and_transform('/home/jovyan/11.jpg', True, 'rgb')\n",
    "img2 = get_image_and_transform('/home/jovyan/22.jpg', True, 'rgb')\n",
    "\n",
    "predict_siamese_model(model2,img1, img2)"
   ]
  }
 ],
 "metadata": {
  "kernelspec": {
   "display_name": "Python 3 (ipykernel)",
   "language": "python",
   "name": "python3"
  },
  "language_info": {
   "codemirror_mode": {
    "name": "ipython",
    "version": 3
   },
   "file_extension": ".py",
   "mimetype": "text/x-python",
   "name": "python",
   "nbconvert_exporter": "python",
   "pygments_lexer": "ipython3",
   "version": "3.10.9"
  },
  "toc-autonumbering": false,
  "toc-showmarkdowntxt": true
 },
 "nbformat": 4,
 "nbformat_minor": 5
}
